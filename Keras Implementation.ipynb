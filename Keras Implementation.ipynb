{
 "cells": [
  {
   "cell_type": "markdown",
   "metadata": {},
   "source": [
    "# Author : Kartik B Bhargav"
   ]
  },
  {
   "cell_type": "markdown",
   "metadata": {
    "colab_type": "text",
    "id": "7ORVPadj7rKq"
   },
   "source": [
    "**Reading material**\n",
    "* [1] Mikolov, Tomas, et al. \"[Efficient Estimation of Word Representations in Vector Space](https://arxiv.org/abs/1301.3781)\" Advances in neural information processing systems. 2013. "
   ]
  },
  {
   "cell_type": "markdown",
   "metadata": {
    "colab_type": "text",
    "id": "6rQwLyiMFu_1"
   },
   "source": [
    "# Keras implementation\n",
    "\n",
    "### Word embeddings\n",
    "Build word embeddings with a Keras implementation where the embedding vector is of length 50, 150 and 300. Use the Alice in Wonderland text book for training. Use a window size of 2 to train the embeddings (`window_size` in the jupyter notebook). \n",
    "\n",
    "1. Build word embeddings of length 50, 150 and 300 using the Skipgram model\n",
    "2. Build word embeddings of length 50, 150 and 300 using CBOW model\n",
    "3. Analyze the different word embeddings:\n",
    "    - Implement your own function to perform the analogy task (see [1] for concrete examples). Use the same distance metric as in the paper. Do not use existing libraries for this task such as Gensim. \n",
    "Your function should be able to answer whether an analogy like: \"a king is to a queen as a man is to a woman\" ($e_{king} - e_{queen} + e_{woman} \\approx e_{man}$) is true. $e_{x}$ denotes the embedding of word $x$. We want to find the word $p$ in the vocabulary, where the embedding of $p$ ($e_p$) is the closest to the predicted embedding (i.e. result of the formula). Then, we can check if $p$ is the same word as the true word $t$.\n",
    "\n",
    "\n",
    "4. Discuss:\n",
    "  - Given the same number of sentences as input, CBOW and Skipgram arrange the data into different number of training samples. Which one has more and why?\n",
    "\n"
   ]
  },
  {
   "cell_type": "markdown",
   "metadata": {
    "colab_type": "text",
    "id": "ctoyAoX1AI6T"
   },
   "source": [
    "### Import libraries"
   ]
  },
  {
   "cell_type": "code",
   "execution_count": 1,
   "metadata": {
    "colab": {},
    "colab_type": "code",
    "id": "vCnATRPgBZEd"
   },
   "outputs": [
    {
     "name": "stderr",
     "output_type": "stream",
     "text": [
      "Using TensorFlow backend.\n"
     ]
    }
   ],
   "source": [
    "import numpy as np\n",
    "import keras.backend as K\n",
    "import tensorflow as tf\n",
    "from tensorflow import keras\n",
    "\n",
    "from tensorflow.keras.models import Sequential\n",
    "from tensorflow.keras.layers import Dense, Embedding, Reshape, Lambda\n",
    "from tensorflow.keras.utils import to_categorical\n",
    "from tensorflow.keras.preprocessing.text import Tokenizer\n",
    "from tensorflow.keras.utils import plot_model\n",
    "from tensorflow.keras.preprocessing import sequence\n",
    "\n",
    "# other helpful libraries\n",
    "from sklearn.manifold import TSNE\n",
    "from sklearn.metrics.pairwise import cosine_similarity\n",
    "from sklearn.neighbors import NearestNeighbors as nn\n",
    "from matplotlib import pylab\n",
    "import pandas as pd"
   ]
  },
  {
   "cell_type": "code",
   "execution_count": 2,
   "metadata": {
    "colab": {},
    "colab_type": "code",
    "id": "qBNCPtOoBbB1"
   },
   "outputs": [
    {
     "name": "stdout",
     "output_type": "stream",
     "text": [
      "2.1.0\n"
     ]
    }
   ],
   "source": [
    "print(tf.__version__) #  check what version of TF is imported"
   ]
  },
  {
   "cell_type": "markdown",
   "metadata": {
    "colab_type": "text",
    "id": "WCd0zUO1AKjY"
   },
   "source": [
    "### Import file\n",
    "\n",
    "If you use Google Colab, you need to mount your Google Drive to the notebook when you want to use files that are located in your Google Drive. Paste the authorization code, from the new tab page that opens automatically when running the cell, in the cell below."
   ]
  },
  {
   "cell_type": "code",
   "execution_count": 3,
   "metadata": {
    "colab": {},
    "colab_type": "code",
    "id": "DdjNeehKBd-a"
   },
   "outputs": [],
   "source": [
    "# from google.colab import drive\n",
    "# drive.mount('/content/drive')"
   ]
  },
  {
   "cell_type": "markdown",
   "metadata": {
    "colab_type": "text",
    "id": "UjIVBt8YGUaO"
   },
   "source": [
    "Navigate to the folder in which `alice.txt` is located. Make sure to start path with '/content/drive/My Drive/' if you want to load the file from your Google Drive."
   ]
  },
  {
   "cell_type": "code",
   "execution_count": 4,
   "metadata": {
    "colab": {},
    "colab_type": "code",
    "id": "iS0-uINUBfic"
   },
   "outputs": [],
   "source": [
    "# cd '/content/drive/My Drive/Colab Notebooks/DL course/'"
   ]
  },
  {
   "cell_type": "code",
   "execution_count": 5,
   "metadata": {
    "colab": {},
    "colab_type": "code",
    "id": "Gz8Z5gCDBhSl"
   },
   "outputs": [],
   "source": [
    "file_name = 'alice.txt'\n",
    "corpus = open(file_name).readlines()"
   ]
  },
  {
   "cell_type": "markdown",
   "metadata": {
    "colab_type": "text",
    "id": "zkbk32wHANnD"
   },
   "source": [
    "### Data preprocessing\n",
    "\n",
    "See Practical 3.1 for an explanation of the preprocessing steps done below."
   ]
  },
  {
   "cell_type": "code",
   "execution_count": 6,
   "metadata": {
    "colab": {},
    "colab_type": "code",
    "id": "37PyOHq2BkY4"
   },
   "outputs": [],
   "source": [
    "# Removes sentences with fewer than 3 words\n",
    "corpus = [sentence for sentence in corpus if sentence.count(\" \") >= 2]\n",
    "\n",
    "# remove punctuation in text and fit tokenizer on entire corpus\n",
    "tokenizer = Tokenizer(filters='!\"#$%&()*+,-./:;<=>?@[\\\\]^_`{|}~\\t\\n'+\"'\")\n",
    "tokenizer.fit_on_texts(corpus)\n",
    "\n",
    "# convert text to sequence of integer values\n",
    "corpus = tokenizer.texts_to_sequences(corpus)\n",
    "n_samples = sum(len(s) for s in corpus) # total number of words in the corpus\n",
    "V = len(tokenizer.word_index) + 1 # total number of unique words in the corpus"
   ]
  },
  {
   "cell_type": "code",
   "execution_count": 7,
   "metadata": {
    "colab": {},
    "colab_type": "code",
    "id": "ILdA_IimBlte"
   },
   "outputs": [
    {
     "data": {
      "text/plain": [
       "(27165, 2557)"
      ]
     },
     "execution_count": 7,
     "metadata": {},
     "output_type": "execute_result"
    }
   ],
   "source": [
    "n_samples, V"
   ]
  },
  {
   "cell_type": "code",
   "execution_count": 8,
   "metadata": {
    "colab": {},
    "colab_type": "code",
    "id": "fRbpue0WBms6"
   },
   "outputs": [
    {
     "name": "stdout",
     "output_type": "stream",
     "text": [
      "[('the', 1), ('and', 2), ('to', 3), ('a', 4), ('it', 5)]\n"
     ]
    }
   ],
   "source": [
    "# example of how word to integer mapping looks like in the tokenizer\n",
    "print(list((tokenizer.word_index.items()))[:5])"
   ]
  },
  {
   "cell_type": "code",
   "execution_count": 9,
   "metadata": {
    "colab": {},
    "colab_type": "code",
    "id": "Er86VxH9BqI9"
   },
   "outputs": [],
   "source": [
    "# parameters\n",
    "window_size = 2\n",
    "window_size_corpus = 4"
   ]
  },
  {
   "cell_type": "code",
   "execution_count": 10,
   "metadata": {},
   "outputs": [
    {
     "data": {
      "text/plain": [
       "[[305, 7, 38, 1, 92, 595]]"
      ]
     },
     "execution_count": 10,
     "metadata": {},
     "output_type": "execute_result"
    }
   ],
   "source": [
    "corpus[:1]"
   ]
  },
  {
   "cell_type": "markdown",
   "metadata": {
    "colab_type": "text",
    "id": "M0sU1JORATvX"
   },
   "source": [
    "## Task 1.1 - Skipgram\n",
    "Build word embeddings of length 50, 150 and 300 using the Skipgram model."
   ]
  },
  {
   "cell_type": "code",
   "execution_count": 11,
   "metadata": {
    "colab": {},
    "colab_type": "code",
    "id": "Udp1xKcDBu0v"
   },
   "outputs": [],
   "source": [
    "#generate data for Skipgram\n",
    "def generate_data_skipgram(corpus, window_size, V):\n",
    "    maxlen = window_size*2\n",
    "    all_in = []\n",
    "    all_out = []\n",
    "    for words in corpus:\n",
    "        L = len(words)\n",
    "        for index, word in enumerate(words):\n",
    "            p = index - window_size\n",
    "            n = index + window_size + 1\n",
    "                    \n",
    "            in_words = []\n",
    "            labels = []\n",
    "            for i in range(p, n):\n",
    "                if i != index and 0 <= i < L:\n",
    "                    # Add the input word\n",
    "                    #in_words.append(word)\n",
    "                    all_in.append(word)\n",
    "                    # Add one-hot of the context words\n",
    "                    all_out.append(to_categorical(words[i], V))\n",
    "                                      \n",
    "    return (np.array(all_in),np.array(all_out))"
   ]
  },
  {
   "cell_type": "code",
   "execution_count": 12,
   "metadata": {},
   "outputs": [],
   "source": [
    "# create training data\n",
    "x, y = generate_data_skipgram(corpus, window_size, V)"
   ]
  },
  {
   "cell_type": "code",
   "execution_count": 13,
   "metadata": {},
   "outputs": [
    {
     "data": {
      "text/plain": [
       "((94556,), (94556, 2557))"
      ]
     },
     "execution_count": 13,
     "metadata": {},
     "output_type": "execute_result"
    }
   ],
   "source": [
    "x.shape, y.shape"
   ]
  },
  {
   "cell_type": "code",
   "execution_count": 14,
   "metadata": {
    "colab": {},
    "colab_type": "code",
    "id": "J1FTkStoDLFQ"
   },
   "outputs": [],
   "source": [
    "# create skipgram architecture\n",
    "def generate_skipgram_model(input_dim, output_dim, embeddings_initializer, input_length, kernel_initializer):\n",
    "    skipgram = Sequential()\n",
    "    skipgram.add(Embedding(input_dim=input_dim, output_dim=output_dim,\n",
    "                           embeddings_initializer=embeddings_initializer, input_length=input_length))\n",
    "    skipgram.add(Reshape((output_dim, )))\n",
    "    skipgram.add(Dense(V, kernel_initializer=kernel_initializer, activation='softmax'))\n",
    "    skipgram.compile(loss='categorical_crossentropy', \n",
    "                     optimizer='adadelta',\n",
    "                     metrics=['accuracy'])\n",
    "    return skipgram"
   ]
  },
  {
   "cell_type": "code",
   "execution_count": 15,
   "metadata": {
    "colab": {},
    "colab_type": "code",
    "id": "eGEHlkQ4DShO"
   },
   "outputs": [],
   "source": [
    "# save embeddings for vectors of length 50, 150 and 300 using skipgram model\n",
    "def save_embeddings(model, file_name):\n",
    "    model_weights = model.get_weights()\n",
    "    embedding = model_weights[0]\n",
    "    np.savetxt(file_name, embedding)"
   ]
  },
  {
   "cell_type": "code",
   "execution_count": 16,
   "metadata": {},
   "outputs": [],
   "source": [
    "dims = [50, 150, 300]\n",
    "skipgram_models = [generate_skipgram_model(V, dim, 'glorot_uniform', 1, 'glorot_uniform') for dim in dims]"
   ]
  },
  {
   "cell_type": "code",
   "execution_count": 17,
   "metadata": {},
   "outputs": [
    {
     "name": "stdout",
     "output_type": "stream",
     "text": [
      "Model: \"sequential\"\n",
      "_________________________________________________________________\n",
      "Layer (type)                 Output Shape              Param #   \n",
      "=================================================================\n",
      "embedding (Embedding)        (None, 1, 50)             127850    \n",
      "_________________________________________________________________\n",
      "reshape (Reshape)            (None, 50)                0         \n",
      "_________________________________________________________________\n",
      "dense (Dense)                (None, 2557)              130407    \n",
      "=================================================================\n",
      "Total params: 258,257\n",
      "Trainable params: 258,257\n",
      "Non-trainable params: 0\n",
      "_________________________________________________________________\n"
     ]
    }
   ],
   "source": [
    "skipgram_models[0].summary()"
   ]
  },
  {
   "cell_type": "code",
   "execution_count": 18,
   "metadata": {},
   "outputs": [
    {
     "name": "stdout",
     "output_type": "stream",
     "text": [
      "Model: \"sequential_1\"\n",
      "_________________________________________________________________\n",
      "Layer (type)                 Output Shape              Param #   \n",
      "=================================================================\n",
      "embedding_1 (Embedding)      (None, 1, 150)            383550    \n",
      "_________________________________________________________________\n",
      "reshape_1 (Reshape)          (None, 150)               0         \n",
      "_________________________________________________________________\n",
      "dense_1 (Dense)              (None, 2557)              386107    \n",
      "=================================================================\n",
      "Total params: 769,657\n",
      "Trainable params: 769,657\n",
      "Non-trainable params: 0\n",
      "_________________________________________________________________\n"
     ]
    }
   ],
   "source": [
    "skipgram_models[1].summary()"
   ]
  },
  {
   "cell_type": "code",
   "execution_count": 19,
   "metadata": {},
   "outputs": [
    {
     "name": "stdout",
     "output_type": "stream",
     "text": [
      "Model: \"sequential_2\"\n",
      "_________________________________________________________________\n",
      "Layer (type)                 Output Shape              Param #   \n",
      "=================================================================\n",
      "embedding_2 (Embedding)      (None, 1, 300)            767100    \n",
      "_________________________________________________________________\n",
      "reshape_2 (Reshape)          (None, 300)               0         \n",
      "_________________________________________________________________\n",
      "dense_2 (Dense)              (None, 2557)              769657    \n",
      "=================================================================\n",
      "Total params: 1,536,757\n",
      "Trainable params: 1,536,757\n",
      "Non-trainable params: 0\n",
      "_________________________________________________________________\n"
     ]
    }
   ],
   "source": [
    "skipgram_models[2].summary()"
   ]
  },
  {
   "cell_type": "markdown",
   "metadata": {
    "colab_type": "text",
    "id": "yxb3ulOlD1Z2"
   },
   "source": [
    "<b>HINT</b>: To increase training speed of your model, you can use the free available GPU power in Google Colab. Go to `Edit` --> `Notebook Settings` --> select `GPU` under `hardware accelerator`."
   ]
  },
  {
   "cell_type": "code",
   "execution_count": 20,
   "metadata": {
    "colab": {},
    "colab_type": "code",
    "id": "a9eg0xPoDP9B"
   },
   "outputs": [
    {
     "name": "stdout",
     "output_type": "stream",
     "text": [
      "Train on 94556 samples\n",
      "Epoch 1/10\n",
      "94556/94556 [==============================] - 6s 63us/sample - loss: 7.8459 - accuracy: 5.9224e-04\n",
      "Epoch 2/10\n",
      "94556/94556 [==============================] - 6s 59us/sample - loss: 7.8445 - accuracy: 0.0041\n",
      "Epoch 3/10\n",
      "94556/94556 [==============================] - 5s 52us/sample - loss: 7.8431 - accuracy: 0.0095\n",
      "Epoch 4/10\n",
      "94556/94556 [==============================] - 5s 53us/sample - loss: 7.8418 - accuracy: 0.0182\n",
      "Epoch 5/10\n",
      "94556/94556 [==============================] - 5s 52us/sample - loss: 7.8405 - accuracy: 0.0279\n",
      "Epoch 6/10\n",
      "94556/94556 [==============================] - 5s 53us/sample - loss: 7.8391 - accuracy: 0.0378\n",
      "Epoch 7/10\n",
      "94556/94556 [==============================] - 5s 54us/sample - loss: 7.8377 - accuracy: 0.0440\n",
      "Epoch 8/10\n",
      "94556/94556 [==============================] - 5s 53us/sample - loss: 7.8364 - accuracy: 0.0496\n",
      "Epoch 9/10\n",
      "94556/94556 [==============================] - 5s 53us/sample - loss: 7.8350 - accuracy: 0.0520\n",
      "Epoch 10/10\n",
      "94556/94556 [==============================] - 5s 55us/sample - loss: 7.8337 - accuracy: 0.0534\n",
      "Train on 94556 samples\n",
      "Epoch 1/10\n",
      "94556/94556 [==============================] - 9s 94us/sample - loss: 7.8457 - accuracy: 4.2303e-04\n",
      "Epoch 2/10\n",
      "94556/94556 [==============================] - 9s 90us/sample - loss: 7.8443 - accuracy: 7.0857e-04\n",
      "Epoch 3/10\n",
      "94556/94556 [==============================] - 8s 89us/sample - loss: 7.8429 - accuracy: 0.0017\n",
      "Epoch 4/10\n",
      "94556/94556 [==============================] - 9s 91us/sample - loss: 7.8415 - accuracy: 0.0043\n",
      "Epoch 5/10\n",
      "94556/94556 [==============================] - 9s 90us/sample - loss: 7.8401 - accuracy: 0.0105\n",
      "Epoch 6/10\n",
      "94556/94556 [==============================] - 9s 92us/sample - loss: 7.8387 - accuracy: 0.0159\n",
      "Epoch 7/10\n",
      "94556/94556 [==============================] - 9s 90us/sample - loss: 7.8373 - accuracy: 0.0227\n",
      "Epoch 8/10\n",
      "94556/94556 [==============================] - 9s 93us/sample - loss: 7.8359 - accuracy: 0.0319\n",
      "Epoch 9/10\n",
      "94556/94556 [==============================] - 8s 89us/sample - loss: 7.8345 - accuracy: 0.0394\n",
      "Epoch 10/10\n",
      "94556/94556 [==============================] - 9s 91us/sample - loss: 7.8331 - accuracy: 0.0431\n",
      "Train on 94556 samples\n",
      "Epoch 1/10\n",
      "94556/94556 [==============================] - 14s 143us/sample - loss: 7.8461 - accuracy: 5.0764e-04\n",
      "Epoch 2/10\n",
      "94556/94556 [==============================] - 13s 140us/sample - loss: 7.8446 - accuracy: 7.0857e-04\n",
      "Epoch 3/10\n",
      "94556/94556 [==============================] - 13s 139us/sample - loss: 7.8431 - accuracy: 9.5182e-04\n",
      "Epoch 4/10\n",
      "94556/94556 [==============================] - 13s 141us/sample - loss: 7.8417 - accuracy: 0.0013\n",
      "Epoch 5/10\n",
      "94556/94556 [==============================] - 14s 148us/sample - loss: 7.8402 - accuracy: 0.0020\n",
      "Epoch 6/10\n",
      "94556/94556 [==============================] - 14s 150us/sample - loss: 7.8388 - accuracy: 0.0034\n",
      "Epoch 7/10\n",
      "94556/94556 [==============================] - 13s 139us/sample - loss: 7.8373 - accuracy: 0.0088\n",
      "Epoch 8/10\n",
      "94556/94556 [==============================] - 13s 141us/sample - loss: 7.8358 - accuracy: 0.0146\n",
      "Epoch 9/10\n",
      "94556/94556 [==============================] - 14s 145us/sample - loss: 7.8344 - accuracy: 0.0200\n",
      "Epoch 10/10\n",
      "94556/94556 [==============================] - 13s 140us/sample - loss: 7.8329 - accuracy: 0.0270\n"
     ]
    },
    {
     "data": {
      "text/plain": [
       "<tensorflow.python.keras.callbacks.History at 0x1b292f66c08>"
      ]
     },
     "execution_count": 20,
     "metadata": {},
     "output_type": "execute_result"
    }
   ],
   "source": [
    "# train skipgram model for the dimensions [50, 150, 300]\n",
    "skipgram_models[0].fit(x, y, batch_size=32, epochs=10) # dim = 50\n",
    "skipgram_models[1].fit(x, y, batch_size=32, epochs=10) # dim = 150\n",
    "skipgram_models[2].fit(x, y, batch_size=32, epochs=10) # dim = 300"
   ]
  },
  {
   "cell_type": "code",
   "execution_count": 21,
   "metadata": {},
   "outputs": [],
   "source": [
    "save_embeddings(skipgram_models[0], 'weights_skipgram_50.txt') # dim = 50\n",
    "save_embeddings(skipgram_models[1], 'weights_skipgram_150.txt') # dim = 150\n",
    "save_embeddings(skipgram_models[2], 'weights_skipgram_300.txt') # dim =300"
   ]
  },
  {
   "cell_type": "code",
   "execution_count": 22,
   "metadata": {},
   "outputs": [
    {
     "data": {
      "image/png": "[encoded data removed]",
      "text/plain": [
       "<IPython.core.display.Image object>"
      ]
     },
     "execution_count": 22,
     "metadata": {},
     "output_type": "execute_result"
    }
   ],
   "source": [
    "plot_model(skipgram_models[0], show_shapes = True, show_layer_names=True)"
   ]
  },
  {
   "cell_type": "code",
   "execution_count": 23,
   "metadata": {},
   "outputs": [
    {
     "data": {
      "image/png": "[encoded data removed]",
      "text/plain": [
       "<IPython.core.display.Image object>"
      ]
     },
     "execution_count": 23,
     "metadata": {},
     "output_type": "execute_result"
    }
   ],
   "source": [
    "plot_model(skipgram_models[1], show_shapes = True, show_layer_names=True)"
   ]
  },
  {
   "cell_type": "code",
   "execution_count": 24,
   "metadata": {},
   "outputs": [
    {
     "data": {
      "image/png": "[encoded data removed]",
      "text/plain": [
       "<IPython.core.display.Image object>"
      ]
     },
     "execution_count": 24,
     "metadata": {},
     "output_type": "execute_result"
    }
   ],
   "source": [
    "plot_model(skipgram_models[2], show_shapes = True, show_layer_names=True)"
   ]
  },
  {
   "cell_type": "markdown",
   "metadata": {
    "colab_type": "text",
    "id": "b4z9Lt6pAZEw"
   },
   "source": [
    "## Task 1.2 - CBOW\n",
    "\n",
    "Build word embeddings of length 50, 150 and 300 using CBOW model."
   ]
  },
  {
   "cell_type": "code",
   "execution_count": 25,
   "metadata": {
    "colab": {},
    "colab_type": "code",
    "id": "KMhI_sWFTXDW"
   },
   "outputs": [],
   "source": [
    "# prepare data for CBOW\n",
    "\n",
    "# create training data\n",
    "\n",
    "# create CBOW architecture\n",
    "\n",
    "# train CBOW model\n",
    "\n",
    "# save embeddings for vectors of length 50, 150 and 300 using CBOW model"
   ]
  },
  {
   "cell_type": "code",
   "execution_count": 26,
   "metadata": {},
   "outputs": [],
   "source": [
    "def generate_data_cbow(corpus, window_size, V):\n",
    "    maxlen = window_size*2\n",
    "    input_list = []\n",
    "    output_list = []\n",
    "    \n",
    "    for line in corpus:\n",
    "        sentence_length = len(line)\n",
    "      \n",
    "        for index, word in enumerate(line):  #for each word in the line, we create a little neighborhood [left,right]\n",
    "            left = index - window_size\n",
    "            right = index + window_size + 1\n",
    "      \n",
    "            input_words = []   #neighbor words of wt, used as input to predict wt       \n",
    "      \n",
    "            for i in range(left, right):\n",
    "                if 0 <= i < sentence_length and i != index:\n",
    "                    # append the input word \n",
    "                    input_words.append(line[i])\n",
    "\n",
    "            input_list.append(input_words)\n",
    "            output_list.append(to_categorical(word,V))\n",
    "      \n",
    "    input_list = sequence.pad_sequences(input_list, maxlen=maxlen)\n",
    "                                      \n",
    "    return (np.array(input_list),np.array(output_list))"
   ]
  },
  {
   "cell_type": "code",
   "execution_count": 27,
   "metadata": {},
   "outputs": [],
   "source": [
    "x_cbow, y_cbow = generate_data_cbow(corpus, window_size, V)"
   ]
  },
  {
   "cell_type": "code",
   "execution_count": 28,
   "metadata": {},
   "outputs": [
    {
     "data": {
      "text/plain": [
       "((27165, 4), (27165, 2557))"
      ]
     },
     "execution_count": 28,
     "metadata": {},
     "output_type": "execute_result"
    }
   ],
   "source": [
    "x_cbow.shape, y_cbow.shape"
   ]
  },
  {
   "cell_type": "code",
   "execution_count": 29,
   "metadata": {},
   "outputs": [],
   "source": [
    "def generate_cbow_model(input_dim, output_dim, embeddings_initializer, input_length, kernel_initializer):\n",
    "    cbow = Sequential()\n",
    "    cbow.add(Embedding(input_dim=input_dim, output_dim=output_dim, \n",
    "                       embeddings_initializer='glorot_uniform', \n",
    "                       input_length=window_size*2))\n",
    "\n",
    "    cbow.add(Lambda(lambda x: K.mean(x, axis=1), output_shape=(output_dim,)))\n",
    "    cbow.add(Dense(V, kernel_initializer=kernel_initializer, activation='softmax'))\n",
    "    cbow.compile(loss='categorical_crossentropy', \n",
    "                 optimizer='adadelta', \n",
    "                 metrics=['accuracy'])\n",
    "    return cbow"
   ]
  },
  {
   "cell_type": "code",
   "execution_count": 30,
   "metadata": {},
   "outputs": [],
   "source": [
    "cbow_models = [generate_cbow_model(V, dim, 'glorot_uniform', window_size * 2, 'glorot_uniform') for dim in dims]"
   ]
  },
  {
   "cell_type": "code",
   "execution_count": 31,
   "metadata": {},
   "outputs": [
    {
     "name": "stdout",
     "output_type": "stream",
     "text": [
      "Model: \"sequential_3\"\n",
      "_________________________________________________________________\n",
      "Layer (type)                 Output Shape              Param #   \n",
      "=================================================================\n",
      "embedding_3 (Embedding)      (None, 4, 50)             127850    \n",
      "_________________________________________________________________\n",
      "lambda (Lambda)              (None, 50)                0         \n",
      "_________________________________________________________________\n",
      "dense_3 (Dense)              (None, 2557)              130407    \n",
      "=================================================================\n",
      "Total params: 258,257\n",
      "Trainable params: 258,257\n",
      "Non-trainable params: 0\n",
      "_________________________________________________________________\n"
     ]
    }
   ],
   "source": [
    "cbow_models[0].summary()"
   ]
  },
  {
   "cell_type": "code",
   "execution_count": 32,
   "metadata": {},
   "outputs": [
    {
     "name": "stdout",
     "output_type": "stream",
     "text": [
      "Model: \"sequential_4\"\n",
      "_________________________________________________________________\n",
      "Layer (type)                 Output Shape              Param #   \n",
      "=================================================================\n",
      "embedding_4 (Embedding)      (None, 4, 150)            383550    \n",
      "_________________________________________________________________\n",
      "lambda_1 (Lambda)            (None, 150)               0         \n",
      "_________________________________________________________________\n",
      "dense_4 (Dense)              (None, 2557)              386107    \n",
      "=================================================================\n",
      "Total params: 769,657\n",
      "Trainable params: 769,657\n",
      "Non-trainable params: 0\n",
      "_________________________________________________________________\n"
     ]
    }
   ],
   "source": [
    "cbow_models[1].summary()"
   ]
  },
  {
   "cell_type": "code",
   "execution_count": 33,
   "metadata": {},
   "outputs": [
    {
     "name": "stdout",
     "output_type": "stream",
     "text": [
      "Model: \"sequential_5\"\n",
      "_________________________________________________________________\n",
      "Layer (type)                 Output Shape              Param #   \n",
      "=================================================================\n",
      "embedding_5 (Embedding)      (None, 4, 300)            767100    \n",
      "_________________________________________________________________\n",
      "lambda_2 (Lambda)            (None, 300)               0         \n",
      "_________________________________________________________________\n",
      "dense_5 (Dense)              (None, 2557)              769657    \n",
      "=================================================================\n",
      "Total params: 1,536,757\n",
      "Trainable params: 1,536,757\n",
      "Non-trainable params: 0\n",
      "_________________________________________________________________\n"
     ]
    }
   ],
   "source": [
    "cbow_models[2].summary()"
   ]
  },
  {
   "cell_type": "code",
   "execution_count": 34,
   "metadata": {},
   "outputs": [
    {
     "name": "stdout",
     "output_type": "stream",
     "text": [
      "Train on 27165 samples\n",
      "Epoch 1/10\n",
      "27165/27165 [==============================] - 1s 45us/sample - loss: 7.8464 - accuracy: 1.8406e-04\n",
      "Epoch 2/10\n",
      "27165/27165 [==============================] - 1s 37us/sample - loss: 7.8461 - accuracy: 5.1537e-04\n",
      "Epoch 3/10\n",
      "27165/27165 [==============================] - 1s 40us/sample - loss: 7.8459 - accuracy: 5.8899e-04\n",
      "Epoch 4/10\n",
      "27165/27165 [==============================] - 1s 38us/sample - loss: 7.8457 - accuracy: 8.4668e-04\n",
      "Epoch 5/10\n",
      "27165/27165 [==============================] - 1s 37us/sample - loss: 7.8454 - accuracy: 0.0013\n",
      "Epoch 6/10\n",
      "27165/27165 [==============================] - 1s 37us/sample - loss: 7.8452 - accuracy: 0.0023\n",
      "Epoch 7/10\n",
      "27165/27165 [==============================] - 1s 35us/sample - loss: 7.8449 - accuracy: 0.0039\n",
      "Epoch 8/10\n",
      "27165/27165 [==============================] - 1s 35us/sample - loss: 7.8447 - accuracy: 0.0067\n",
      "Epoch 9/10\n",
      "27165/27165 [==============================] - 1s 34us/sample - loss: 7.8445 - accuracy: 0.0096\n",
      "Epoch 10/10\n",
      "27165/27165 [==============================] - 1s 34us/sample - loss: 7.8442 - accuracy: 0.0136\n",
      "Train on 27165 samples\n",
      "Epoch 1/10\n",
      "27165/27165 [==============================] - 2s 70us/sample - loss: 7.8464 - accuracy: 5.8899e-04\n",
      "Epoch 2/10\n",
      "27165/27165 [==============================] - 2s 66us/sample - loss: 7.8461 - accuracy: 6.9943e-04\n",
      "Epoch 3/10\n",
      "27165/27165 [==============================] - 2s 70us/sample - loss: 7.8458 - accuracy: 0.0011\n",
      "Epoch 4/10\n",
      "27165/27165 [==============================] - 2s 64us/sample - loss: 7.8456 - accuracy: 0.0015\n",
      "Epoch 5/10\n",
      "27165/27165 [==============================] - 2s 60us/sample - loss: 7.8453 - accuracy: 0.0020\n",
      "Epoch 6/10\n",
      "27165/27165 [==============================] - 2s 63us/sample - loss: 7.8451 - accuracy: 0.0028\n",
      "Epoch 7/10\n",
      "27165/27165 [==============================] - 2s 62us/sample - loss: 7.8448 - accuracy: 0.0034\n",
      "Epoch 8/10\n",
      "27165/27165 [==============================] - 2s 65us/sample - loss: 7.8446 - accuracy: 0.0047\n",
      "Epoch 9/10\n",
      "27165/27165 [==============================] - 2s 60us/sample - loss: 7.8443 - accuracy: 0.0064\n",
      "Epoch 10/10\n",
      "27165/27165 [==============================] - 2s 59us/sample - loss: 7.8441 - accuracy: 0.0084\n",
      "Train on 27165 samples\n",
      "Epoch 1/10\n",
      "27165/27165 [==============================] - 3s 107us/sample - loss: 7.8468 - accuracy: 3.6812e-04\n",
      "Epoch 2/10\n",
      "27165/27165 [==============================] - 3s 96us/sample - loss: 7.8465 - accuracy: 3.3131e-04\n",
      "Epoch 3/10\n",
      "27165/27165 [==============================] - 2s 91us/sample - loss: 7.8462 - accuracy: 3.6812e-04\n",
      "Epoch 4/10\n",
      "27165/27165 [==============================] - 2s 91us/sample - loss: 7.8460 - accuracy: 4.0493e-04\n",
      "Epoch 5/10\n",
      "27165/27165 [==============================] - 2s 87us/sample - loss: 7.8457 - accuracy: 4.7856e-04\n",
      "Epoch 6/10\n",
      "27165/27165 [==============================] - 3s 98us/sample - loss: 7.8454 - accuracy: 6.6262e-04\n",
      "Epoch 7/10\n",
      "27165/27165 [==============================] - 2s 91us/sample - loss: 7.8452 - accuracy: 6.9943e-04\n",
      "Epoch 8/10\n",
      "27165/27165 [==============================] - 3s 97us/sample - loss: 7.8449 - accuracy: 7.7305e-04\n",
      "Epoch 9/10\n",
      "27165/27165 [==============================] - 2s 90us/sample - loss: 7.8446 - accuracy: 8.8349e-04\n",
      "Epoch 10/10\n",
      "27165/27165 [==============================] - 3s 96us/sample - loss: 7.8443 - accuracy: 0.0013\n"
     ]
    },
    {
     "data": {
      "text/plain": [
       "<tensorflow.python.keras.callbacks.History at 0x1b2a10047c8>"
      ]
     },
     "execution_count": 34,
     "metadata": {},
     "output_type": "execute_result"
    }
   ],
   "source": [
    "# train cbow model for dimensions [50, 150, 300]\n",
    "cbow_models[0].fit(x_cbow, y_cbow, batch_size=64, epochs=10) # dim = 50\n",
    "cbow_models[1].fit(x_cbow, y_cbow, batch_size=64, epochs=10) # dim = 150\n",
    "cbow_models[2].fit(x_cbow, y_cbow, batch_size=64, epochs=10) # dim = 300"
   ]
  },
  {
   "cell_type": "code",
   "execution_count": 35,
   "metadata": {},
   "outputs": [],
   "source": [
    "save_embeddings(cbow_models[0], 'weights_cbow_50.txt') # dim = 50\n",
    "save_embeddings(cbow_models[1], 'weights_cbow_150.txt') # dim = 150\n",
    "save_embeddings(cbow_models[2], 'weights_cbow_300.txt') # dim =300"
   ]
  },
  {
   "cell_type": "code",
   "execution_count": 36,
   "metadata": {},
   "outputs": [
    {
     "data": {
      "image/png": "[encoded data removed]",
      "text/plain": [
       "<IPython.core.display.Image object>"
      ]
     },
     "execution_count": 36,
     "metadata": {},
     "output_type": "execute_result"
    }
   ],
   "source": [
    "plot_model(cbow_models[0], show_shapes = True, show_layer_names=True)"
   ]
  },
  {
   "cell_type": "code",
   "execution_count": 37,
   "metadata": {},
   "outputs": [
    {
     "data": {
      "image/png": "[encoded data removed]",
      "text/plain": [
       "<IPython.core.display.Image object>"
      ]
     },
     "execution_count": 37,
     "metadata": {},
     "output_type": "execute_result"
    }
   ],
   "source": [
    "plot_model(cbow_models[1], show_shapes = True, show_layer_names=True)"
   ]
  },
  {
   "cell_type": "code",
   "execution_count": 38,
   "metadata": {},
   "outputs": [
    {
     "data": {
      "image/png": "[encoded data removed]",
      "text/plain": [
       "<IPython.core.display.Image object>"
      ]
     },
     "execution_count": 38,
     "metadata": {},
     "output_type": "execute_result"
    }
   ],
   "source": [
    "plot_model(cbow_models[2], show_shapes = True, show_layer_names=True)"
   ]
  },
  {
   "cell_type": "code",
   "execution_count": 39,
   "metadata": {},
   "outputs": [
    {
     "data": {
      "text/plain": [
       "TensorShape([2557, 50])"
      ]
     },
     "execution_count": 39,
     "metadata": {},
     "output_type": "execute_result"
    }
   ],
   "source": [
    "cbow_models[0].weights[0].shape"
   ]
  },
  {
   "cell_type": "markdown",
   "metadata": {
    "colab_type": "text",
    "id": "rr2BAI4nAfnG"
   },
   "source": [
    "## Task 1.3 - Analogy function\n",
    "\n",
    "Implement your own function to perform the analogy task (see [1] for concrete examples). Use the same distance metric as in [1]. Do not use existing libraries for this task such as Gensim. Your function should be able to answer whether an analogy like: \"a king is to a queen as a man is to a woman\" ($e_{king} - e_{queen} + e_{woman} \\approx e_{man}$) is true. \n",
    "\n",
    "In a perfect scenario, we would like that this analogy ( $e_{king} - e_{queen} + e_{woman}$) results in the embedding of the word \"man\". However, it does not always result in exactly the same word embedding. The result of the formula is called the expected or the predicted word embedding. In this context, \"man\" is called the true or the actual word $t$. We want to find the word $p$ in the vocabulary, where the embedding of $p$ ($e_p$) is the closest to the predicted embedding (i.e. result of the formula). Then, we can check if $p$ is the same word as the true word $t$.  \n",
    "\n",
    "You have to answer an analogy function using each embedding for both CBOW and Skipgram model. This means that for each analogy we have 6 outputs. Show the true word (with distance similarity value between predicted embedding and true word embedding, i.e. `sim1`) , the predicted word (with distance similarity value between predicted embedding and the embedding of the word in the vocabulary that is closest to this predicted embedding, i.e. `sim2`) and a boolean answer whether the predicted word **exactly** equals the true word. \n",
    "\n",
    "<b>HINT</b>: to visualize the results of the analogy tasks , you can print them in a table. An example is given below.\n",
    "\n",
    "\n",
    "| Analogy task | True word (sim1)  | Predicted word (sim2) | Embedding | Correct?|\n",
    "|------|------|------|------|------|\n",
    "|  queen is to king as woman is to ?\t | man (sim1) | predictd_word(sim2) | SG_50 | True / False|\n",
    "\n",
    "* Give at least 5 different  examples of analogies.\n",
    "* Compare the performance on the analogy s between the word embeddings and briefly discuss your results."
   ]
  },
  {
   "cell_type": "code",
   "execution_count": 40,
   "metadata": {},
   "outputs": [],
   "source": [
    "embedding = skipgram_models[0].get_weights()[0]"
   ]
  },
  {
   "cell_type": "code",
   "execution_count": 41,
   "metadata": {},
   "outputs": [],
   "source": [
    "# Embed a word by getting the one hot encoding and taking the dot product of this vector with the embedding matrix\n",
    "# 'word' = string type\n",
    "def embed(word, embedding=embedding, vocab_size = V, tokenizer=tokenizer):\n",
    "    # get the index of the word from the tokenizer, i.e. convert the string to it's corresponding integer in the vocabulary\n",
    "    int_word = tokenizer.texts_to_sequences([word])[0]\n",
    "    # get the one-hot encoding of the word\n",
    "    bin_word = to_categorical(int_word, V)\n",
    "    return np.dot(bin_word, embedding)"
   ]
  },
  {
   "cell_type": "code",
   "execution_count": 42,
   "metadata": {},
   "outputs": [],
   "source": [
    "def get_nearest_word(embed_word1, embed_word2, embed_word3, predicted_embedding, embedding):\n",
    "    \n",
    "    \n",
    "    index_of_excluded_words = []\n",
    "    words_to_exclude = [predicted_embedding, embed_word1, embed_word2, embed_word3]\n",
    "    \n",
    "    \n",
    "    for i in range(V):\n",
    "        for j in words_to_exclude:\n",
    "            if np.array_equal(j, embedding[[i]]):\n",
    "                index_of_excluded_words.append(i)\n",
    "    \n",
    "    largest_dist = 0\n",
    "    \n",
    "    index = 0\n",
    "\n",
    "    index_of_included_words = [x for x in range(V) if x not in index_of_excluded_words]\n",
    "\n",
    "    \n",
    "    for i in index_of_included_words:  \n",
    "        temp_word = embedding[[i]]\n",
    "        \n",
    "        dist = cosine_similarity(predicted_embedding, temp_word)\n",
    "        \n",
    "        if dist > largest_dist:\n",
    "            largest_dist = dist\n",
    "            index = i\n",
    "  \n",
    "    temp_list = list((tokenizer.word_index.items()))\n",
    "\n",
    "    closest_word = [item[0] for item in temp_list if item[1] == index]\n",
    "    \n",
    "    \n",
    "    return (largest_dist[0][0], closest_word[0])"
   ]
  },
  {
   "cell_type": "code",
   "execution_count": 43,
   "metadata": {},
   "outputs": [],
   "source": [
    "def get_analogy(word1, word2, word3, true_word):\n",
    "\n",
    "    analogy = word2 + ' is to ' + word1 + ' as ' + word3 + ' is to _____'\n",
    "    \n",
    "    result_df = pd.DataFrame(columns=['Analogy task', \n",
    "                                      'True word (sim1)', \n",
    "                                      'Predicted word (sim2)', \n",
    "                                      'Embedding', \n",
    "                                      'Correct?'])\n",
    "    \n",
    "    models = ['weights_skipgram_50',\n",
    "              'weights_skipgram_150',\n",
    "              'weights_skipgram_300',\n",
    "              'weights_cbow_50',\n",
    "              'weights_cbow_150',\n",
    "              'weights_cbow_300']\n",
    "\n",
    "    for i, model in enumerate(models):\n",
    "        embedding = np.loadtxt(model + '.txt')\n",
    "    \n",
    "        word1_embed = embed(word1, embedding)\n",
    "        word2_embed = embed(word2, embedding)\n",
    "        word3_embed = embed(word3, embedding)\n",
    "    \n",
    "        predicted_embedding = word2_embed - word1_embed + word3_embed\n",
    "\n",
    "        similarity1 = cosine_similarity(predicted_embedding, embed(true_word, embedding))\n",
    "        similarity1 = similarity1[0][0]\n",
    "        similarity1 = ' ({value})'.format(value=similarity1)\n",
    "        \n",
    "        pair = get_nearest_word(word1_embed, word2_embed, word3_embed, predicted_embedding, embedding)\n",
    "        predicted_word = pair[1]\n",
    "        \n",
    "        similarity2 = pair[0]\n",
    "        similarity2 = ' ({value})'.format(value=similarity2)\n",
    "        \n",
    "        true_word_str = true_word + similarity1\n",
    "    \n",
    "        predicted_word_str = predicted_word + similarity2\n",
    "\n",
    "        result_df.loc[i] = [analogy] + [true_word_str] + [predicted_word_str] + [model] + [true_word == predicted_word]\n",
    "\n",
    "    return result_df"
   ]
  },
  {
   "cell_type": "code",
   "execution_count": 44,
   "metadata": {},
   "outputs": [
    {
     "data": {
      "text/html": [
       "<div>\n",
       "<style scoped>\n",
       "    .dataframe tbody tr th:only-of-type {\n",
       "        vertical-align: middle;\n",
       "    }\n",
       "\n",
       "    .dataframe tbody tr th {\n",
       "        vertical-align: top;\n",
       "    }\n",
       "\n",
       "    .dataframe thead th {\n",
       "        text-align: right;\n",
       "    }\n",
       "</style>\n",
       "<table border=\"1\" class=\"dataframe\">\n",
       "  <thead>\n",
       "    <tr style=\"text-align: right;\">\n",
       "      <th></th>\n",
       "      <th>Analogy task</th>\n",
       "      <th>True word (sim1)</th>\n",
       "      <th>Predicted word (sim2)</th>\n",
       "      <th>Embedding</th>\n",
       "      <th>Correct?</th>\n",
       "    </tr>\n",
       "  </thead>\n",
       "  <tbody>\n",
       "    <tr>\n",
       "      <th>0</th>\n",
       "      <td>queen is to king as woman is to _____</td>\n",
       "      <td>man (0.1502882425847857)</td>\n",
       "      <td>scolded (0.5019497368850239)</td>\n",
       "      <td>weights_skipgram_50</td>\n",
       "      <td>False</td>\n",
       "    </tr>\n",
       "    <tr>\n",
       "      <th>1</th>\n",
       "      <td>queen is to king as woman is to _____</td>\n",
       "      <td>man (-0.06998455803958539)</td>\n",
       "      <td>beak (0.2883205524875558)</td>\n",
       "      <td>weights_skipgram_150</td>\n",
       "      <td>False</td>\n",
       "    </tr>\n",
       "    <tr>\n",
       "      <th>2</th>\n",
       "      <td>queen is to king as woman is to _____</td>\n",
       "      <td>man (-0.009413754678270783)</td>\n",
       "      <td>agony (0.1835969199654301)</td>\n",
       "      <td>weights_skipgram_300</td>\n",
       "      <td>False</td>\n",
       "    </tr>\n",
       "    <tr>\n",
       "      <th>3</th>\n",
       "      <td>queen is to king as woman is to _____</td>\n",
       "      <td>man (0.10175374015089679)</td>\n",
       "      <td>violent (0.4983568542399161)</td>\n",
       "      <td>weights_cbow_50</td>\n",
       "      <td>False</td>\n",
       "    </tr>\n",
       "    <tr>\n",
       "      <th>4</th>\n",
       "      <td>queen is to king as woman is to _____</td>\n",
       "      <td>man (0.07444440752385277)</td>\n",
       "      <td>provoking (0.2587516137662047)</td>\n",
       "      <td>weights_cbow_150</td>\n",
       "      <td>False</td>\n",
       "    </tr>\n",
       "    <tr>\n",
       "      <th>5</th>\n",
       "      <td>queen is to king as woman is to _____</td>\n",
       "      <td>man (-0.0641729795687589)</td>\n",
       "      <td>fine (0.17827628908057103)</td>\n",
       "      <td>weights_cbow_300</td>\n",
       "      <td>False</td>\n",
       "    </tr>\n",
       "  </tbody>\n",
       "</table>\n",
       "</div>"
      ],
      "text/plain": [
       "                            Analogy task             True word (sim1)  \\\n",
       "0  queen is to king as woman is to _____     man (0.1502882425847857)   \n",
       "1  queen is to king as woman is to _____   man (-0.06998455803958539)   \n",
       "2  queen is to king as woman is to _____  man (-0.009413754678270783)   \n",
       "3  queen is to king as woman is to _____    man (0.10175374015089679)   \n",
       "4  queen is to king as woman is to _____    man (0.07444440752385277)   \n",
       "5  queen is to king as woman is to _____    man (-0.0641729795687589)   \n",
       "\n",
       "            Predicted word (sim2)             Embedding Correct?  \n",
       "0    scolded (0.5019497368850239)   weights_skipgram_50    False  \n",
       "1       beak (0.2883205524875558)  weights_skipgram_150    False  \n",
       "2      agony (0.1835969199654301)  weights_skipgram_300    False  \n",
       "3    violent (0.4983568542399161)       weights_cbow_50    False  \n",
       "4  provoking (0.2587516137662047)      weights_cbow_150    False  \n",
       "5      fine (0.17827628908057103)      weights_cbow_300    False  "
      ]
     },
     "execution_count": 44,
     "metadata": {},
     "output_type": "execute_result"
    }
   ],
   "source": [
    "get_analogy('king', 'queen', 'woman', 'man')"
   ]
  },
  {
   "cell_type": "code",
   "execution_count": 45,
   "metadata": {},
   "outputs": [
    {
     "data": {
      "text/html": [
       "<div>\n",
       "<style scoped>\n",
       "    .dataframe tbody tr th:only-of-type {\n",
       "        vertical-align: middle;\n",
       "    }\n",
       "\n",
       "    .dataframe tbody tr th {\n",
       "        vertical-align: top;\n",
       "    }\n",
       "\n",
       "    .dataframe thead th {\n",
       "        text-align: right;\n",
       "    }\n",
       "</style>\n",
       "<table border=\"1\" class=\"dataframe\">\n",
       "  <thead>\n",
       "    <tr style=\"text-align: right;\">\n",
       "      <th></th>\n",
       "      <th>Analogy task</th>\n",
       "      <th>True word (sim1)</th>\n",
       "      <th>Predicted word (sim2)</th>\n",
       "      <th>Embedding</th>\n",
       "      <th>Correct?</th>\n",
       "    </tr>\n",
       "  </thead>\n",
       "  <tbody>\n",
       "    <tr>\n",
       "      <th>0</th>\n",
       "      <td>woman is to man as brother is to _____</td>\n",
       "      <td>sister (-0.009800222695689802)</td>\n",
       "      <td>tart (0.42124074167033265)</td>\n",
       "      <td>weights_skipgram_50</td>\n",
       "      <td>False</td>\n",
       "    </tr>\n",
       "    <tr>\n",
       "      <th>1</th>\n",
       "      <td>woman is to man as brother is to _____</td>\n",
       "      <td>sister (0.13458942895334297)</td>\n",
       "      <td>stand (0.28016701553736834)</td>\n",
       "      <td>weights_skipgram_150</td>\n",
       "      <td>False</td>\n",
       "    </tr>\n",
       "    <tr>\n",
       "      <th>2</th>\n",
       "      <td>woman is to man as brother is to _____</td>\n",
       "      <td>sister (-0.12141385124896732)</td>\n",
       "      <td>m (0.19785447652227195)</td>\n",
       "      <td>weights_skipgram_300</td>\n",
       "      <td>False</td>\n",
       "    </tr>\n",
       "    <tr>\n",
       "      <th>3</th>\n",
       "      <td>woman is to man as brother is to _____</td>\n",
       "      <td>sister (0.1311073319031238)</td>\n",
       "      <td>ridiculous (0.4498671276140966)</td>\n",
       "      <td>weights_cbow_50</td>\n",
       "      <td>False</td>\n",
       "    </tr>\n",
       "    <tr>\n",
       "      <th>4</th>\n",
       "      <td>woman is to man as brother is to _____</td>\n",
       "      <td>sister (0.10464831513179608)</td>\n",
       "      <td>anxious (0.3104450471817921)</td>\n",
       "      <td>weights_cbow_150</td>\n",
       "      <td>False</td>\n",
       "    </tr>\n",
       "    <tr>\n",
       "      <th>5</th>\n",
       "      <td>woman is to man as brother is to _____</td>\n",
       "      <td>sister (0.11807813076385815)</td>\n",
       "      <td>offend (0.22805382055430148)</td>\n",
       "      <td>weights_cbow_300</td>\n",
       "      <td>False</td>\n",
       "    </tr>\n",
       "  </tbody>\n",
       "</table>\n",
       "</div>"
      ],
      "text/plain": [
       "                             Analogy task                True word (sim1)  \\\n",
       "0  woman is to man as brother is to _____  sister (-0.009800222695689802)   \n",
       "1  woman is to man as brother is to _____    sister (0.13458942895334297)   \n",
       "2  woman is to man as brother is to _____   sister (-0.12141385124896732)   \n",
       "3  woman is to man as brother is to _____     sister (0.1311073319031238)   \n",
       "4  woman is to man as brother is to _____    sister (0.10464831513179608)   \n",
       "5  woman is to man as brother is to _____    sister (0.11807813076385815)   \n",
       "\n",
       "             Predicted word (sim2)             Embedding Correct?  \n",
       "0       tart (0.42124074167033265)   weights_skipgram_50    False  \n",
       "1      stand (0.28016701553736834)  weights_skipgram_150    False  \n",
       "2          m (0.19785447652227195)  weights_skipgram_300    False  \n",
       "3  ridiculous (0.4498671276140966)       weights_cbow_50    False  \n",
       "4     anxious (0.3104450471817921)      weights_cbow_150    False  \n",
       "5     offend (0.22805382055430148)      weights_cbow_300    False  "
      ]
     },
     "execution_count": 45,
     "metadata": {},
     "output_type": "execute_result"
    }
   ],
   "source": [
    "get_analogy('man', 'woman', 'brother', 'sister')"
   ]
  },
  {
   "cell_type": "code",
   "execution_count": 46,
   "metadata": {},
   "outputs": [
    {
     "data": {
      "text/html": [
       "<div>\n",
       "<style scoped>\n",
       "    .dataframe tbody tr th:only-of-type {\n",
       "        vertical-align: middle;\n",
       "    }\n",
       "\n",
       "    .dataframe tbody tr th {\n",
       "        vertical-align: top;\n",
       "    }\n",
       "\n",
       "    .dataframe thead th {\n",
       "        text-align: right;\n",
       "    }\n",
       "</style>\n",
       "<table border=\"1\" class=\"dataframe\">\n",
       "  <thead>\n",
       "    <tr style=\"text-align: right;\">\n",
       "      <th></th>\n",
       "      <th>Analogy task</th>\n",
       "      <th>True word (sim1)</th>\n",
       "      <th>Predicted word (sim2)</th>\n",
       "      <th>Embedding</th>\n",
       "      <th>Correct?</th>\n",
       "    </tr>\n",
       "  </thead>\n",
       "  <tbody>\n",
       "    <tr>\n",
       "      <th>0</th>\n",
       "      <td>children is to child as thing is to _____</td>\n",
       "      <td>things (0.08263401919649965)</td>\n",
       "      <td>flown (0.4200887289311576)</td>\n",
       "      <td>weights_skipgram_50</td>\n",
       "      <td>False</td>\n",
       "    </tr>\n",
       "    <tr>\n",
       "      <th>1</th>\n",
       "      <td>children is to child as thing is to _____</td>\n",
       "      <td>things (0.037240739628781064)</td>\n",
       "      <td>must (0.28136964178270685)</td>\n",
       "      <td>weights_skipgram_150</td>\n",
       "      <td>False</td>\n",
       "    </tr>\n",
       "    <tr>\n",
       "      <th>2</th>\n",
       "      <td>children is to child as thing is to _____</td>\n",
       "      <td>things (-0.05565843394508958)</td>\n",
       "      <td>enormous (0.19884138077104846)</td>\n",
       "      <td>weights_skipgram_300</td>\n",
       "      <td>False</td>\n",
       "    </tr>\n",
       "    <tr>\n",
       "      <th>3</th>\n",
       "      <td>children is to child as thing is to _____</td>\n",
       "      <td>things (-0.05435773579852159)</td>\n",
       "      <td>balls (0.4819835785529824)</td>\n",
       "      <td>weights_cbow_50</td>\n",
       "      <td>False</td>\n",
       "    </tr>\n",
       "    <tr>\n",
       "      <th>4</th>\n",
       "      <td>children is to child as thing is to _____</td>\n",
       "      <td>things (0.10774548940709376)</td>\n",
       "      <td>terms (0.28679352915920886)</td>\n",
       "      <td>weights_cbow_150</td>\n",
       "      <td>False</td>\n",
       "    </tr>\n",
       "    <tr>\n",
       "      <th>5</th>\n",
       "      <td>children is to child as thing is to _____</td>\n",
       "      <td>things (-0.013169401015570861)</td>\n",
       "      <td>cold (0.2365006981283153)</td>\n",
       "      <td>weights_cbow_300</td>\n",
       "      <td>False</td>\n",
       "    </tr>\n",
       "  </tbody>\n",
       "</table>\n",
       "</div>"
      ],
      "text/plain": [
       "                                Analogy task                True word (sim1)  \\\n",
       "0  children is to child as thing is to _____    things (0.08263401919649965)   \n",
       "1  children is to child as thing is to _____   things (0.037240739628781064)   \n",
       "2  children is to child as thing is to _____   things (-0.05565843394508958)   \n",
       "3  children is to child as thing is to _____   things (-0.05435773579852159)   \n",
       "4  children is to child as thing is to _____    things (0.10774548940709376)   \n",
       "5  children is to child as thing is to _____  things (-0.013169401015570861)   \n",
       "\n",
       "            Predicted word (sim2)             Embedding Correct?  \n",
       "0      flown (0.4200887289311576)   weights_skipgram_50    False  \n",
       "1      must (0.28136964178270685)  weights_skipgram_150    False  \n",
       "2  enormous (0.19884138077104846)  weights_skipgram_300    False  \n",
       "3      balls (0.4819835785529824)       weights_cbow_50    False  \n",
       "4     terms (0.28679352915920886)      weights_cbow_150    False  \n",
       "5       cold (0.2365006981283153)      weights_cbow_300    False  "
      ]
     },
     "execution_count": 46,
     "metadata": {},
     "output_type": "execute_result"
    }
   ],
   "source": [
    "get_analogy('child', 'children', 'thing', 'things')"
   ]
  },
  {
   "cell_type": "code",
   "execution_count": 47,
   "metadata": {},
   "outputs": [
    {
     "data": {
      "text/html": [
       "<div>\n",
       "<style scoped>\n",
       "    .dataframe tbody tr th:only-of-type {\n",
       "        vertical-align: middle;\n",
       "    }\n",
       "\n",
       "    .dataframe tbody tr th {\n",
       "        vertical-align: top;\n",
       "    }\n",
       "\n",
       "    .dataframe thead th {\n",
       "        text-align: right;\n",
       "    }\n",
       "</style>\n",
       "<table border=\"1\" class=\"dataframe\">\n",
       "  <thead>\n",
       "    <tr style=\"text-align: right;\">\n",
       "      <th></th>\n",
       "      <th>Analogy task</th>\n",
       "      <th>True word (sim1)</th>\n",
       "      <th>Predicted word (sim2)</th>\n",
       "      <th>Embedding</th>\n",
       "      <th>Correct?</th>\n",
       "    </tr>\n",
       "  </thead>\n",
       "  <tbody>\n",
       "    <tr>\n",
       "      <th>0</th>\n",
       "      <td>see is to eye as ear is to _____</td>\n",
       "      <td>hear (0.034776785143891015)</td>\n",
       "      <td>knelt (0.43992711496822734)</td>\n",
       "      <td>weights_skipgram_50</td>\n",
       "      <td>False</td>\n",
       "    </tr>\n",
       "    <tr>\n",
       "      <th>1</th>\n",
       "      <td>see is to eye as ear is to _____</td>\n",
       "      <td>hear (0.08452480318117789)</td>\n",
       "      <td>took (0.24533237629899812)</td>\n",
       "      <td>weights_skipgram_150</td>\n",
       "      <td>False</td>\n",
       "    </tr>\n",
       "    <tr>\n",
       "      <th>2</th>\n",
       "      <td>see is to eye as ear is to _____</td>\n",
       "      <td>hear (-0.00742672793194161)</td>\n",
       "      <td>doubtful (0.19595501962353762)</td>\n",
       "      <td>weights_skipgram_300</td>\n",
       "      <td>False</td>\n",
       "    </tr>\n",
       "    <tr>\n",
       "      <th>3</th>\n",
       "      <td>see is to eye as ear is to _____</td>\n",
       "      <td>hear (-0.19536292819253487)</td>\n",
       "      <td>unlocking (0.4221325611844432)</td>\n",
       "      <td>weights_cbow_50</td>\n",
       "      <td>False</td>\n",
       "    </tr>\n",
       "    <tr>\n",
       "      <th>4</th>\n",
       "      <td>see is to eye as ear is to _____</td>\n",
       "      <td>hear (-0.19025359698665587)</td>\n",
       "      <td>cauldron (0.2547776290423087)</td>\n",
       "      <td>weights_cbow_150</td>\n",
       "      <td>False</td>\n",
       "    </tr>\n",
       "    <tr>\n",
       "      <th>5</th>\n",
       "      <td>see is to eye as ear is to _____</td>\n",
       "      <td>hear (0.0651427258521401)</td>\n",
       "      <td>ears (0.21897409404157292)</td>\n",
       "      <td>weights_cbow_300</td>\n",
       "      <td>False</td>\n",
       "    </tr>\n",
       "  </tbody>\n",
       "</table>\n",
       "</div>"
      ],
      "text/plain": [
       "                       Analogy task             True word (sim1)  \\\n",
       "0  see is to eye as ear is to _____  hear (0.034776785143891015)   \n",
       "1  see is to eye as ear is to _____   hear (0.08452480318117789)   \n",
       "2  see is to eye as ear is to _____  hear (-0.00742672793194161)   \n",
       "3  see is to eye as ear is to _____  hear (-0.19536292819253487)   \n",
       "4  see is to eye as ear is to _____  hear (-0.19025359698665587)   \n",
       "5  see is to eye as ear is to _____    hear (0.0651427258521401)   \n",
       "\n",
       "            Predicted word (sim2)             Embedding Correct?  \n",
       "0     knelt (0.43992711496822734)   weights_skipgram_50    False  \n",
       "1      took (0.24533237629899812)  weights_skipgram_150    False  \n",
       "2  doubtful (0.19595501962353762)  weights_skipgram_300    False  \n",
       "3  unlocking (0.4221325611844432)       weights_cbow_50    False  \n",
       "4   cauldron (0.2547776290423087)      weights_cbow_150    False  \n",
       "5      ears (0.21897409404157292)      weights_cbow_300    False  "
      ]
     },
     "execution_count": 47,
     "metadata": {},
     "output_type": "execute_result"
    }
   ],
   "source": [
    "get_analogy('eye', 'see', 'ear', 'hear')   "
   ]
  },
  {
   "cell_type": "code",
   "execution_count": 48,
   "metadata": {},
   "outputs": [
    {
     "data": {
      "text/html": [
       "<div>\n",
       "<style scoped>\n",
       "    .dataframe tbody tr th:only-of-type {\n",
       "        vertical-align: middle;\n",
       "    }\n",
       "\n",
       "    .dataframe tbody tr th {\n",
       "        vertical-align: top;\n",
       "    }\n",
       "\n",
       "    .dataframe thead th {\n",
       "        text-align: right;\n",
       "    }\n",
       "</style>\n",
       "<table border=\"1\" class=\"dataframe\">\n",
       "  <thead>\n",
       "    <tr style=\"text-align: right;\">\n",
       "      <th></th>\n",
       "      <th>Analogy task</th>\n",
       "      <th>True word (sim1)</th>\n",
       "      <th>Predicted word (sim2)</th>\n",
       "      <th>Embedding</th>\n",
       "      <th>Correct?</th>\n",
       "    </tr>\n",
       "  </thead>\n",
       "  <tbody>\n",
       "    <tr>\n",
       "      <th>0</th>\n",
       "      <td>she is to he as man is to _____</td>\n",
       "      <td>woman (0.22383541976021648)</td>\n",
       "      <td>milk (0.4534708920231655)</td>\n",
       "      <td>weights_skipgram_50</td>\n",
       "      <td>False</td>\n",
       "    </tr>\n",
       "    <tr>\n",
       "      <th>1</th>\n",
       "      <td>she is to he as man is to _____</td>\n",
       "      <td>woman (0.036214516672151434)</td>\n",
       "      <td>mistake (0.3253697134628336)</td>\n",
       "      <td>weights_skipgram_150</td>\n",
       "      <td>False</td>\n",
       "    </tr>\n",
       "    <tr>\n",
       "      <th>2</th>\n",
       "      <td>she is to he as man is to _____</td>\n",
       "      <td>woman (0.04617959528951802)</td>\n",
       "      <td>scratching (0.2155622308467392)</td>\n",
       "      <td>weights_skipgram_300</td>\n",
       "      <td>False</td>\n",
       "    </tr>\n",
       "    <tr>\n",
       "      <th>3</th>\n",
       "      <td>she is to he as man is to _____</td>\n",
       "      <td>woman (0.12305937855005233)</td>\n",
       "      <td>pie (0.46133473071913345)</td>\n",
       "      <td>weights_cbow_50</td>\n",
       "      <td>False</td>\n",
       "    </tr>\n",
       "    <tr>\n",
       "      <th>4</th>\n",
       "      <td>she is to he as man is to _____</td>\n",
       "      <td>woman (-0.06996427856884091)</td>\n",
       "      <td>roses (0.2683691782691048)</td>\n",
       "      <td>weights_cbow_150</td>\n",
       "      <td>False</td>\n",
       "    </tr>\n",
       "    <tr>\n",
       "      <th>5</th>\n",
       "      <td>she is to he as man is to _____</td>\n",
       "      <td>woman (0.04444503612629783)</td>\n",
       "      <td>ve (0.19598778035511683)</td>\n",
       "      <td>weights_cbow_300</td>\n",
       "      <td>False</td>\n",
       "    </tr>\n",
       "  </tbody>\n",
       "</table>\n",
       "</div>"
      ],
      "text/plain": [
       "                      Analogy task              True word (sim1)  \\\n",
       "0  she is to he as man is to _____   woman (0.22383541976021648)   \n",
       "1  she is to he as man is to _____  woman (0.036214516672151434)   \n",
       "2  she is to he as man is to _____   woman (0.04617959528951802)   \n",
       "3  she is to he as man is to _____   woman (0.12305937855005233)   \n",
       "4  she is to he as man is to _____  woman (-0.06996427856884091)   \n",
       "5  she is to he as man is to _____   woman (0.04444503612629783)   \n",
       "\n",
       "             Predicted word (sim2)             Embedding Correct?  \n",
       "0        milk (0.4534708920231655)   weights_skipgram_50    False  \n",
       "1     mistake (0.3253697134628336)  weights_skipgram_150    False  \n",
       "2  scratching (0.2155622308467392)  weights_skipgram_300    False  \n",
       "3        pie (0.46133473071913345)       weights_cbow_50    False  \n",
       "4       roses (0.2683691782691048)      weights_cbow_150    False  \n",
       "5         ve (0.19598778035511683)      weights_cbow_300    False  "
      ]
     },
     "execution_count": 48,
     "metadata": {},
     "output_type": "execute_result"
    }
   ],
   "source": [
    "get_analogy('he', 'she', 'man', 'woman')    "
   ]
  },
  {
   "cell_type": "code",
   "execution_count": 49,
   "metadata": {},
   "outputs": [
    {
     "data": {
      "text/html": [
       "<div>\n",
       "<style scoped>\n",
       "    .dataframe tbody tr th:only-of-type {\n",
       "        vertical-align: middle;\n",
       "    }\n",
       "\n",
       "    .dataframe tbody tr th {\n",
       "        vertical-align: top;\n",
       "    }\n",
       "\n",
       "    .dataframe thead th {\n",
       "        text-align: right;\n",
       "    }\n",
       "</style>\n",
       "<table border=\"1\" class=\"dataframe\">\n",
       "  <thead>\n",
       "    <tr style=\"text-align: right;\">\n",
       "      <th></th>\n",
       "      <th>Analogy task</th>\n",
       "      <th>True word (sim1)</th>\n",
       "      <th>Predicted word (sim2)</th>\n",
       "      <th>Embedding</th>\n",
       "      <th>Correct?</th>\n",
       "    </tr>\n",
       "  </thead>\n",
       "  <tbody>\n",
       "    <tr>\n",
       "      <th>0</th>\n",
       "      <td>himself is to herself as he is to _____</td>\n",
       "      <td>she (0.07649189775234495)</td>\n",
       "      <td>terms (0.43096624335995226)</td>\n",
       "      <td>weights_skipgram_50</td>\n",
       "      <td>False</td>\n",
       "    </tr>\n",
       "    <tr>\n",
       "      <th>1</th>\n",
       "      <td>himself is to herself as he is to _____</td>\n",
       "      <td>she (-0.02663596637769904)</td>\n",
       "      <td>flower (0.3212232653680582)</td>\n",
       "      <td>weights_skipgram_150</td>\n",
       "      <td>False</td>\n",
       "    </tr>\n",
       "    <tr>\n",
       "      <th>2</th>\n",
       "      <td>himself is to herself as he is to _____</td>\n",
       "      <td>she (-0.025785791988800943)</td>\n",
       "      <td>fig (0.1851514925362805)</td>\n",
       "      <td>weights_skipgram_300</td>\n",
       "      <td>False</td>\n",
       "    </tr>\n",
       "    <tr>\n",
       "      <th>3</th>\n",
       "      <td>himself is to herself as he is to _____</td>\n",
       "      <td>she (-0.03470882125744389)</td>\n",
       "      <td>whiskers (0.47765104806981035)</td>\n",
       "      <td>weights_cbow_50</td>\n",
       "      <td>False</td>\n",
       "    </tr>\n",
       "    <tr>\n",
       "      <th>4</th>\n",
       "      <td>himself is to herself as he is to _____</td>\n",
       "      <td>she (0.09986424700410262)</td>\n",
       "      <td>mournful (0.26632762928886855)</td>\n",
       "      <td>weights_cbow_150</td>\n",
       "      <td>False</td>\n",
       "    </tr>\n",
       "    <tr>\n",
       "      <th>5</th>\n",
       "      <td>himself is to herself as he is to _____</td>\n",
       "      <td>she (0.004931603773171431)</td>\n",
       "      <td>picture (0.22893578133986625)</td>\n",
       "      <td>weights_cbow_300</td>\n",
       "      <td>False</td>\n",
       "    </tr>\n",
       "  </tbody>\n",
       "</table>\n",
       "</div>"
      ],
      "text/plain": [
       "                              Analogy task             True word (sim1)  \\\n",
       "0  himself is to herself as he is to _____    she (0.07649189775234495)   \n",
       "1  himself is to herself as he is to _____   she (-0.02663596637769904)   \n",
       "2  himself is to herself as he is to _____  she (-0.025785791988800943)   \n",
       "3  himself is to herself as he is to _____   she (-0.03470882125744389)   \n",
       "4  himself is to herself as he is to _____    she (0.09986424700410262)   \n",
       "5  himself is to herself as he is to _____   she (0.004931603773171431)   \n",
       "\n",
       "            Predicted word (sim2)             Embedding Correct?  \n",
       "0     terms (0.43096624335995226)   weights_skipgram_50    False  \n",
       "1     flower (0.3212232653680582)  weights_skipgram_150    False  \n",
       "2        fig (0.1851514925362805)  weights_skipgram_300    False  \n",
       "3  whiskers (0.47765104806981035)       weights_cbow_50    False  \n",
       "4  mournful (0.26632762928886855)      weights_cbow_150    False  \n",
       "5   picture (0.22893578133986625)      weights_cbow_300    False  "
      ]
     },
     "execution_count": 49,
     "metadata": {},
     "output_type": "execute_result"
    }
   ],
   "source": [
    "get_analogy('herself', 'himself', 'he', 'she') "
   ]
  },
  {
   "cell_type": "code",
   "execution_count": 50,
   "metadata": {},
   "outputs": [
    {
     "data": {
      "text/html": [
       "<div>\n",
       "<style scoped>\n",
       "    .dataframe tbody tr th:only-of-type {\n",
       "        vertical-align: middle;\n",
       "    }\n",
       "\n",
       "    .dataframe tbody tr th {\n",
       "        vertical-align: top;\n",
       "    }\n",
       "\n",
       "    .dataframe thead th {\n",
       "        text-align: right;\n",
       "    }\n",
       "</style>\n",
       "<table border=\"1\" class=\"dataframe\">\n",
       "  <thead>\n",
       "    <tr style=\"text-align: right;\">\n",
       "      <th></th>\n",
       "      <th>Analogy task</th>\n",
       "      <th>True word (sim1)</th>\n",
       "      <th>Predicted word (sim2)</th>\n",
       "      <th>Embedding</th>\n",
       "      <th>Correct?</th>\n",
       "    </tr>\n",
       "  </thead>\n",
       "  <tbody>\n",
       "    <tr>\n",
       "      <th>0</th>\n",
       "      <td>woman is to man as herself is to _____</td>\n",
       "      <td>himself (-0.1711132928906235)</td>\n",
       "      <td>machines (0.4900894962974936)</td>\n",
       "      <td>weights_skipgram_50</td>\n",
       "      <td>False</td>\n",
       "    </tr>\n",
       "    <tr>\n",
       "      <th>1</th>\n",
       "      <td>woman is to man as herself is to _____</td>\n",
       "      <td>himself (-0.033894620536833855)</td>\n",
       "      <td>double (0.31299035898834743)</td>\n",
       "      <td>weights_skipgram_150</td>\n",
       "      <td>False</td>\n",
       "    </tr>\n",
       "    <tr>\n",
       "      <th>2</th>\n",
       "      <td>woman is to man as herself is to _____</td>\n",
       "      <td>himself (-0.013512785663952302)</td>\n",
       "      <td>which (0.21915083395960938)</td>\n",
       "      <td>weights_skipgram_300</td>\n",
       "      <td>False</td>\n",
       "    </tr>\n",
       "    <tr>\n",
       "      <th>3</th>\n",
       "      <td>woman is to man as herself is to _____</td>\n",
       "      <td>himself (-0.04527550481288285)</td>\n",
       "      <td>voices (0.49644589952701634)</td>\n",
       "      <td>weights_cbow_50</td>\n",
       "      <td>False</td>\n",
       "    </tr>\n",
       "    <tr>\n",
       "      <th>4</th>\n",
       "      <td>woman is to man as herself is to _____</td>\n",
       "      <td>himself (0.03241882820888016)</td>\n",
       "      <td>whistle (0.31430052090247385)</td>\n",
       "      <td>weights_cbow_150</td>\n",
       "      <td>False</td>\n",
       "    </tr>\n",
       "    <tr>\n",
       "      <th>5</th>\n",
       "      <td>woman is to man as herself is to _____</td>\n",
       "      <td>himself (0.008773330533037575)</td>\n",
       "      <td>sob (0.1880851896850811)</td>\n",
       "      <td>weights_cbow_300</td>\n",
       "      <td>False</td>\n",
       "    </tr>\n",
       "  </tbody>\n",
       "</table>\n",
       "</div>"
      ],
      "text/plain": [
       "                             Analogy task                 True word (sim1)  \\\n",
       "0  woman is to man as herself is to _____    himself (-0.1711132928906235)   \n",
       "1  woman is to man as herself is to _____  himself (-0.033894620536833855)   \n",
       "2  woman is to man as herself is to _____  himself (-0.013512785663952302)   \n",
       "3  woman is to man as herself is to _____   himself (-0.04527550481288285)   \n",
       "4  woman is to man as herself is to _____    himself (0.03241882820888016)   \n",
       "5  woman is to man as herself is to _____   himself (0.008773330533037575)   \n",
       "\n",
       "           Predicted word (sim2)             Embedding Correct?  \n",
       "0  machines (0.4900894962974936)   weights_skipgram_50    False  \n",
       "1   double (0.31299035898834743)  weights_skipgram_150    False  \n",
       "2    which (0.21915083395960938)  weights_skipgram_300    False  \n",
       "3   voices (0.49644589952701634)       weights_cbow_50    False  \n",
       "4  whistle (0.31430052090247385)      weights_cbow_150    False  \n",
       "5       sob (0.1880851896850811)      weights_cbow_300    False  "
      ]
     },
     "execution_count": 50,
     "metadata": {},
     "output_type": "execute_result"
    }
   ],
   "source": [
    "get_analogy('man', 'woman', 'herself', 'himself')"
   ]
  },
  {
   "cell_type": "markdown",
   "metadata": {
    "colab_type": "text",
    "id": "5h-OWIF9AsKH"
   },
   "source": [
    "## Task 1.4 - Discussion\n",
    "Answer the following question:\n",
    "* Given the same number of sentences as input, CBOW and Skipgram arrange the data into different number of training samples. Which one has more and why?\n",
    "\n",
    "In Continuous Bag of Words, the word is predicted based on the context of the word. The context of words is not just limited to the previous word or the next word but depends on the window size. All the context words are embedded using the same word embedding. The Skip-gram model works in the reverse way as compared to CBOW. Hence, rather than looking for a word based on context, the Skip-gram model tries to learn the context based on the word. The goal of the skip-gram model is to find the embedding matrix. And, when the embedding matrix is trained on a large corpus then it has more probability to capture the semantic relationships between the words.\n",
    "\n",
    "When the same number of sentences are given as input to the CBOW and Skip-gram model, the Skip-gram model arrange the data into more training samples as compared to the CBOW model. When Skipgram generates the training data, it tries to select the maximum window size L­­­­max then go through the available sentences."
   ]
  }
 ],
 "metadata": {
  "colab": {
   "collapsed_sections": [],
   "name": "Assignment 1 (TF 2).ipynb",
   "provenance": []
  },
  "kernelspec": {
   "display_name": "Python 3",
   "language": "python",
   "name": "python3"
  },
  "language_info": {
   "codemirror_mode": {
    "name": "ipython",
    "version": 3
   },
   "file_extension": ".py",
   "mimetype": "text/x-python",
   "name": "python",
   "nbconvert_exporter": "python",
   "pygments_lexer": "ipython3",
   "version": "3.8.5"
  },
  "toc": {
   "base_numbering": 1,
   "nav_menu": {},
   "number_sections": true,
   "sideBar": true,
   "skip_h1_title": false,
   "title_cell": "Table of Contents",
   "title_sidebar": "Contents",
   "toc_cell": false,
   "toc_position": {},
   "toc_section_display": true,
   "toc_window_display": false
  }
 },
 "nbformat": 4,
 "nbformat_minor": 1
}
