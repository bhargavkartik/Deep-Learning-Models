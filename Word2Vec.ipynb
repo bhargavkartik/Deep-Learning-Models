{
 "cells": [
  {
   "cell_type": "markdown",
   "metadata": {
    "colab_type": "text",
    "id": "L2iV47nQC8cc"
   },
   "source": [
    "# Author : Kartik B Bhargav\n",
    "\n",
    "##  word2vec\n",
    "\n",
    "**Reading material**\n",
    "* [1] Mikolov, Tomas, et al. \"[Efficient Estimation of Word Representations in Vector Space](https://arxiv.org/abs/1301.3781)\" Advances in neural information processing systems. 2013. \n",
    "\n",
    "Start by loading the necessary libraries.\n"
   ]
  },
  {
   "cell_type": "code",
   "execution_count": 0,
   "metadata": {
    "colab": {},
    "colab_type": "code",
    "id": "BSp5SVoWGvxZ"
   },
   "outputs": [],
   "source": [
    "%tensorflow_version 2.x"
   ]
  },
  {
   "cell_type": "code",
   "execution_count": 0,
   "metadata": {
    "colab": {
     "base_uri": "https://localhost:8080/",
     "height": 34
    },
    "colab_type": "code",
    "id": "uQ9ElevcC2S-",
    "outputId": "ba0d765b-ae3e-42f2-a4d9-e650034b53ae"
   },
   "outputs": [
    {
     "name": "stderr",
     "output_type": "stream",
     "text": [
      "Using TensorFlow backend.\n"
     ]
    }
   ],
   "source": [
    "import numpy as np\n",
    "import keras.backend as K\n",
    "import tensorflow as tf\n",
    "from tensorflow import keras\n",
    "\n",
    "from tensorflow.keras.models import Sequential\n",
    "from tensorflow.keras.layers import Dense, Embedding, Reshape, Lambda\n",
    "from tensorflow.keras.utils import to_categorical\n",
    "from tensorflow.keras.preprocessing.text import Tokenizer\n",
    "from tensorflow.keras.utils import plot_model"
   ]
  },
  {
   "cell_type": "code",
   "execution_count": 0,
   "metadata": {
    "colab": {
     "base_uri": "https://localhost:8080/",
     "height": 34
    },
    "colab_type": "code",
    "id": "4kST6d2uDA8G",
    "outputId": "33d7c020-a5d4-4ccf-ebd3-db44cbcadcff"
   },
   "outputs": [
    {
     "name": "stdout",
     "output_type": "stream",
     "text": [
      "2.2.0-rc3\n"
     ]
    }
   ],
   "source": [
    "print(tf.__version__) #  check what version of TF is imported"
   ]
  },
  {
   "cell_type": "markdown",
   "metadata": {
    "colab_type": "text",
    "id": "aH3XdAWzGcEY"
   },
   "source": [
    "If you use Google Colab, you need to mount your Google Drive to the notebook when you want to use files that are located in your Google Drive. Paste the authorization code, from the new tab page that opens automatically when running the cell, in the cell below."
   ]
  },
  {
   "cell_type": "code",
   "execution_count": 0,
   "metadata": {
    "colab": {
     "base_uri": "https://localhost:8080/",
     "height": 121
    },
    "colab_type": "code",
    "id": "E9wiOf66GkFc",
    "outputId": "0c3c1645-5384-4a9e-fc4b-e18e6c156be5"
   },
   "outputs": [
    {
     "name": "stdout",
     "output_type": "stream",
     "text": [
      "Go to this URL in a browser: https://accounts.google.com/o/oauth2/auth?client_id=947318989803-6bn6qk8qdgf4n4g3pfee6491hc0brc4i.apps.googleusercontent.com&redirect_uri=urn%3aietf%3awg%3aoauth%3a2.0%3aoob&response_type=code&scope=email%20https%3a%2f%2fwww.googleapis.com%2fauth%2fdocs.test%20https%3a%2f%2fwww.googleapis.com%2fauth%2fdrive%20https%3a%2f%2fwww.googleapis.com%2fauth%2fdrive.photos.readonly%20https%3a%2f%2fwww.googleapis.com%2fauth%2fpeopleapi.readonly\n",
      "\n",
      "Enter your authorization code:\n",
      "··········\n",
      "Mounted at /content/drive\n"
     ]
    }
   ],
   "source": [
    "from google.colab import drive\n",
    "drive.mount('/content/drive')"
   ]
  },
  {
   "cell_type": "markdown",
   "metadata": {
    "colab_type": "text",
    "id": "MbvXUuPQIseK"
   },
   "source": [
    "Navigate to the folder in which `alice.txt` is located. Make sure to start path with '/content/drive/My Drive/' if you want to load the file from your Google Drive."
   ]
  },
  {
   "cell_type": "code",
   "execution_count": 0,
   "metadata": {
    "colab": {
     "base_uri": "https://localhost:8080/",
     "height": 34
    },
    "colab_type": "code",
    "id": "tmERE-LmGm5y",
    "outputId": "7ab73e97-5c52-4bc1-c951-5d6ef6822894"
   },
   "outputs": [
    {
     "name": "stdout",
     "output_type": "stream",
     "text": [
      "/content/drive/My Drive/Colab Notebooks/DL course\n"
     ]
    }
   ],
   "source": [
    "cd '/content/drive/My Drive/Colab Notebooks/DL course/'"
   ]
  },
  {
   "cell_type": "code",
   "execution_count": 0,
   "metadata": {
    "colab": {},
    "colab_type": "code",
    "id": "wpKpgHwAJCKa"
   },
   "outputs": [],
   "source": [
    "# read the file \n",
    "file_name = 'alice.txt'\n",
    "corpus = open(file_name).readlines()"
   ]
  },
  {
   "cell_type": "code",
   "execution_count": 0,
   "metadata": {
    "colab": {
     "base_uri": "https://localhost:8080/",
     "height": 34
    },
    "colab_type": "code",
    "id": "Y6EhDHdCKU--",
    "outputId": "50199d1d-0ea3-4d6e-b62a-2128bbda1f1a"
   },
   "outputs": [
    {
     "data": {
      "text/plain": [
       "['\\n']"
      ]
     },
     "execution_count": 7,
     "metadata": {
      "tags": []
     },
     "output_type": "execute_result"
    }
   ],
   "source": [
    "corpus[:1]"
   ]
  },
  {
   "cell_type": "markdown",
   "metadata": {
    "colab_type": "text",
    "id": "e12RccsaJLuH"
   },
   "source": [
    "## Data Preprocessing\n",
    "\n",
    "Before we can use the data in our SkipGram model, we need to convert each unique word to a unique numberic identifier. First we clean the data, where we remove punctuation from the text. Then a `Tokenizer` is fit on the cleaned corpus. This `Tokenizer` vectorizes a text corpus, by turning each sentence in the corpus into a sequence of integers."
   ]
  },
  {
   "cell_type": "code",
   "execution_count": 0,
   "metadata": {
    "colab": {},
    "colab_type": "code",
    "id": "AZ1HppHKI4Wr"
   },
   "outputs": [],
   "source": [
    "# Removes sentences with fewer than 3 words\n",
    "corpus = [sentence for sentence in corpus if sentence.count(\" \") >= 2]\n",
    "\n",
    "# remove punctuation in text and fit tokenizer on entire corpus\n",
    "tokenizer = Tokenizer(filters='!\"#$%&()*+,-./:;<=>?@[\\\\]^_`{|}~\\t\\n'+\"'\")\n",
    "tokenizer.fit_on_texts(corpus)\n",
    "\n",
    "# convert text to sequence of integer values\n",
    "corpus = tokenizer.texts_to_sequences(corpus)\n",
    "n_samples = sum(len(s) for s in corpus) # total number of words in the corpus\n",
    "V = len(tokenizer.word_index) + 1 # total number of unique words in the corpus + 1"
   ]
  },
  {
   "cell_type": "code",
   "execution_count": 0,
   "metadata": {
    "colab": {
     "base_uri": "https://localhost:8080/",
     "height": 34
    },
    "colab_type": "code",
    "id": "6sWL5pWxKXBB",
    "outputId": "d70b204f-efb3-44d7-fce2-183efeb65d3a"
   },
   "outputs": [
    {
     "data": {
      "text/plain": [
       "[[305, 7, 38, 1, 92, 595]]"
      ]
     },
     "execution_count": 9,
     "metadata": {
      "tags": []
     },
     "output_type": "execute_result"
    }
   ],
   "source": [
    "corpus[:1]"
   ]
  },
  {
   "cell_type": "markdown",
   "metadata": {
    "colab_type": "text",
    "id": "CYIZn1DqpGsK"
   },
   "source": [
    "We add `1` to the number of unique words, such that we are also able to map  unknown words to one unique index value.  So, index `len(V)` corresponds to the unknown words that are not in the vocabulary, if you encouter those in future prediction tasks. We do not map unknown words to the index 0, because we want to be able to distinguish between a padded sequences (when you want to pad a sequence, you add zeros in front or at the end) and an unknown word that is not in the vocabulary. However, in this notebook we do not pad the sequence and we do not use words outside the vocabulary, so don't think about it too much for now."
   ]
  },
  {
   "cell_type": "code",
   "execution_count": 0,
   "metadata": {
    "colab": {
     "base_uri": "https://localhost:8080/",
     "height": 34
    },
    "colab_type": "code",
    "id": "IQwU_ernPbQl",
    "outputId": "2e6035c1-055f-4267-b6f8-c7b8b24f5508"
   },
   "outputs": [
    {
     "data": {
      "text/plain": [
       "(27165, 2557)"
      ]
     },
     "execution_count": 10,
     "metadata": {
      "tags": []
     },
     "output_type": "execute_result"
    }
   ],
   "source": [
    "n_samples, V"
   ]
  },
  {
   "cell_type": "code",
   "execution_count": 0,
   "metadata": {
    "colab": {
     "base_uri": "https://localhost:8080/",
     "height": 34
    },
    "colab_type": "code",
    "id": "wYvhfx5Tuf_F",
    "outputId": "6c9db7e0-3d44-4788-a989-fb8e7f04291f"
   },
   "outputs": [
    {
     "name": "stdout",
     "output_type": "stream",
     "text": [
      "[('the', 1), ('and', 2), ('to', 3), ('a', 4), ('it', 5)]\n"
     ]
    }
   ],
   "source": [
    "# example of how word to integer mapping looks like in the tokenizer\n",
    "print(list((tokenizer.word_index.items()))[:5])"
   ]
  },
  {
   "cell_type": "code",
   "execution_count": 0,
   "metadata": {
    "colab": {
     "base_uri": "https://localhost:8080/",
     "height": 34
    },
    "colab_type": "code",
    "id": "WEYKEUcsrIsA",
    "outputId": "55bc5c17-09f7-4274-e2e2-fb1272eb8f78"
   },
   "outputs": [
    {
     "name": "stdout",
     "output_type": "stream",
     "text": [
      "[('gather', 2552), ('sorrows', 2553), ('joys', 2554), ('remembering', 2555), ('happy', 2556)]\n"
     ]
    }
   ],
   "source": [
    "print(list((tokenizer.word_index.items()))[-5:])"
   ]
  },
  {
   "cell_type": "markdown",
   "metadata": {
    "colab_type": "text",
    "id": "WDvvWgPpwgUT"
   },
   "source": [
    "## Generate data for Skipgram\n",
    "Skipgram predicts the source context words given a target word. We break down each (target word, context word**s**) pair into a **single** pair (target word, context word). This is what we do in the function `generate_data_skipgram`, which returns two NumPy arrays: `x` (input, i.e. target word) and `y` (output, i.e. context word)."
   ]
  },
  {
   "cell_type": "code",
   "execution_count": 0,
   "metadata": {
    "colab": {},
    "colab_type": "code",
    "id": "WDeUCy79L7P2"
   },
   "outputs": [],
   "source": [
    "window_size = 2"
   ]
  },
  {
   "cell_type": "code",
   "execution_count": 0,
   "metadata": {
    "colab": {
     "base_uri": "https://localhost:8080/",
     "height": 34
    },
    "colab_type": "code",
    "id": "kCzI9nt63aXq",
    "outputId": "5d9e967f-6191-446e-914e-579f88642585"
   },
   "outputs": [
    {
     "data": {
      "text/plain": [
       "[[305, 7, 38, 1, 92, 595]]"
      ]
     },
     "execution_count": 14,
     "metadata": {
      "tags": []
     },
     "output_type": "execute_result"
    }
   ],
   "source": [
    "corpus[:1]"
   ]
  },
  {
   "cell_type": "code",
   "execution_count": 0,
   "metadata": {
    "colab": {},
    "colab_type": "code",
    "id": "H4oty1h2MCC6"
   },
   "outputs": [],
   "source": [
    "#generate data for Skipgram\n",
    "def generate_data_skipgram(corpus, window_size, V):\n",
    "    maxlen = window_size*2\n",
    "    all_in = []\n",
    "    all_out = []\n",
    "    for words in corpus:\n",
    "        L = len(words)\n",
    "        for index, word in enumerate(words):\n",
    "            p = index - window_size\n",
    "            n = index + window_size + 1\n",
    "                    \n",
    "            in_words = []\n",
    "            labels = []\n",
    "            for i in range(p, n):\n",
    "                if i != index and 0 <= i < L:\n",
    "                    # Add the input word\n",
    "                    #in_words.append(word)\n",
    "                    all_in.append(word)\n",
    "                    # Add one-hot of the context words\n",
    "                    all_out.append(to_categorical(words[i], V))\n",
    "                                      \n",
    "    return (np.array(all_in),np.array(all_out))"
   ]
  },
  {
   "cell_type": "code",
   "execution_count": 0,
   "metadata": {
    "colab": {},
    "colab_type": "code",
    "id": "2nTPlCVNPsyy"
   },
   "outputs": [],
   "source": [
    "x, y = generate_data_skipgram(corpus, window_size, V)"
   ]
  },
  {
   "cell_type": "code",
   "execution_count": 0,
   "metadata": {
    "colab": {
     "base_uri": "https://localhost:8080/",
     "height": 34
    },
    "colab_type": "code",
    "id": "0CHvRSxpw5Dc",
    "outputId": "4a85bb29-c677-44b4-940a-f681c61c9159"
   },
   "outputs": [
    {
     "data": {
      "text/plain": [
       "((94556,), (94556, 2557))"
      ]
     },
     "execution_count": 17,
     "metadata": {
      "tags": []
     },
     "output_type": "execute_result"
    }
   ],
   "source": [
    "x.shape, y.shape"
   ]
  },
  {
   "cell_type": "markdown",
   "metadata": {
    "colab_type": "text",
    "id": "WZjuJciaMkZi"
   },
   "source": [
    "## Create architecture Skipgram model\n",
    "Implement the Skipgram model architecture. \n",
    "\n",
    "* Initialise a Keras Sequential model\n",
    "* Add an Embedding layer. Think about the following parameter values: the input dimension (`input_dim`) , the size of the embedding vectors (`output_dim`) and the input length (`input_length`). Use the parameter `kernel_initializer` to initialize the weights with values from a `glorot_uniform` distribution. An embedding layer turns positive integers into a dense vector of size `dim`. This embedding layer learns a dense word embedding for all words in the vocabulary.\n",
    "* Add a Reshape layer, which reshapes the output of the embedding layer (1,dim) to (dim,)\n",
    "* Add a final Dense layer with the same size and activation function as in [1]. Use the parameter `kernel_initializer` to initialize the weights with values from a `glorot_uniform` distribution.\n",
    "* Compile the model with a suitable loss function and select an optimizer."
   ]
  },
  {
   "cell_type": "code",
   "execution_count": 0,
   "metadata": {
    "colab": {},
    "colab_type": "code",
    "id": "XdEIR45TMHoi"
   },
   "outputs": [],
   "source": [
    "dim = 100 # dimension of word embedding\n",
    "\n",
    "# TODO finish the model implementation\n",
    "skipgram = Sequential()\n",
    "skipgram.add(Embedding(input_dim=V, output_dim=dim, embeddings_initializer='glorot_uniform', input_length=1))\n",
    "skipgram.add(Reshape((dim, )))\n",
    "skipgram.add(Dense(V, kernel_initializer='glorot_uniform', activation='softmax'))\n",
    "skipgram.compile(loss='categorical_crossentropy', optimizer='adadelta')"
   ]
  },
  {
   "cell_type": "markdown",
   "metadata": {
    "colab_type": "text",
    "id": "QOQVVSwL5cOl"
   },
   "source": [
    "The `?` in the output of `plot_model` corresponds to the batch size."
   ]
  },
  {
   "cell_type": "code",
   "execution_count": 0,
   "metadata": {
    "colab": {
     "base_uri": "https://localhost:8080/",
     "height": 422
    },
    "colab_type": "code",
    "id": "aPuL4w58x4H6",
    "outputId": "d3a78ae8-62e7-40e0-e528-aad5359d1564"
   },
   "outputs": [
    {
     "data": {
      "image/png": "[encoded data removed]",
      "text/plain": [
       "<IPython.core.display.Image object>"
      ]
     },
     "execution_count": 19,
     "metadata": {
      "tags": []
     },
     "output_type": "execute_result"
    }
   ],
   "source": [
    "plot_model(skipgram, show_shapes = True, show_layer_names=False)"
   ]
  },
  {
   "cell_type": "code",
   "execution_count": 0,
   "metadata": {
    "colab": {
     "base_uri": "https://localhost:8080/",
     "height": 252
    },
    "colab_type": "code",
    "id": "oOIx9fFW2rjV",
    "outputId": "2f1bd28c-543f-400f-bdad-c4e76f9e4951"
   },
   "outputs": [
    {
     "name": "stdout",
     "output_type": "stream",
     "text": [
      "Model: \"sequential\"\n",
      "_________________________________________________________________\n",
      "Layer (type)                 Output Shape              Param #   \n",
      "=================================================================\n",
      "embedding (Embedding)        (None, 1, 100)            255700    \n",
      "_________________________________________________________________\n",
      "reshape (Reshape)            (None, 100)               0         \n",
      "_________________________________________________________________\n",
      "dense (Dense)                (None, 2557)              258257    \n",
      "=================================================================\n",
      "Total params: 513,957\n",
      "Trainable params: 513,957\n",
      "Non-trainable params: 0\n",
      "_________________________________________________________________\n"
     ]
    }
   ],
   "source": [
    "skipgram.summary()"
   ]
  },
  {
   "cell_type": "markdown",
   "metadata": {
    "colab_type": "text",
    "id": "WC76oaL_57Tj"
   },
   "source": [
    "<b>HINT</b>: To increase training speed of your model, you can use the free available GPU power in Google Colab. Go to `Edit` --> `Notebook Settings` --> select `GPU` under `hardware accelerator`."
   ]
  },
  {
   "cell_type": "code",
   "execution_count": 0,
   "metadata": {
    "colab": {
     "base_uri": "https://localhost:8080/",
     "height": 370
    },
    "colab_type": "code",
    "id": "HtQYxGhVMpo3",
    "outputId": "9294509b-d545-4ad8-abf9-ef150f3fe74b"
   },
   "outputs": [
    {
     "name": "stdout",
     "output_type": "stream",
     "text": [
      "Epoch 1/10\n",
      "1478/1478 [==============================] - 5s 3ms/step - loss: 7.8461\n",
      "Epoch 2/10\n",
      "1478/1478 [==============================] - 5s 3ms/step - loss: 7.8452\n",
      "Epoch 3/10\n",
      "1478/1478 [==============================] - 5s 3ms/step - loss: 7.8444\n",
      "Epoch 4/10\n",
      "1478/1478 [==============================] - 5s 3ms/step - loss: 7.8435\n",
      "Epoch 5/10\n",
      "1478/1478 [==============================] - 5s 3ms/step - loss: 7.8427\n",
      "Epoch 6/10\n",
      "1478/1478 [==============================] - 5s 3ms/step - loss: 7.8419\n",
      "Epoch 7/10\n",
      "1478/1478 [==============================] - 5s 3ms/step - loss: 7.8410\n",
      "Epoch 8/10\n",
      "1478/1478 [==============================] - 5s 3ms/step - loss: 7.8401\n",
      "Epoch 9/10\n",
      "1478/1478 [==============================] - 5s 3ms/step - loss: 7.8393\n",
      "Epoch 10/10\n",
      "1478/1478 [==============================] - 5s 3ms/step - loss: 7.8384\n"
     ]
    },
    {
     "data": {
      "text/plain": [
       "<tensorflow.python.keras.callbacks.History at 0x7fc4102ff0b8>"
      ]
     },
     "execution_count": 21,
     "metadata": {
      "tags": []
     },
     "output_type": "execute_result"
    }
   ],
   "source": [
    "# TODO train the skipgram model\n",
    "\n",
    "skipgram.fit(x, y, batch_size=64, epochs=10, verbose=1)"
   ]
  },
  {
   "cell_type": "markdown",
   "metadata": {
    "colab_type": "text",
    "id": "5MWL2JbUytkH"
   },
   "source": [
    "## Get word embeddings\n",
    "The embedding matrix is saved in the weights of the model. "
   ]
  },
  {
   "cell_type": "code",
   "execution_count": 0,
   "metadata": {
    "colab": {
     "base_uri": "https://localhost:8080/",
     "height": 67
    },
    "colab_type": "code",
    "id": "CmnhFuzlS0LI",
    "outputId": "0154c84b-72cf-4cec-ab8a-e6458ecfb614"
   },
   "outputs": [
    {
     "name": "stdout",
     "output_type": "stream",
     "text": [
      "Weights for the embedding layer:  (2557, 100)\n",
      "Weights for the dense layer:  (100, 2557)\n",
      "Biases for the dense layer:  (2557,)\n"
     ]
    }
   ],
   "source": [
    "weights = skipgram.get_weights()\n",
    "\n",
    "print(\"Weights for the embedding layer: \",  weights[0].shape)\n",
    "print(\"Weights for the dense layer: \",  weights[1].shape)\n",
    "print(\"Biases for the dense layer: \",  weights[2].shape)"
   ]
  },
  {
   "cell_type": "code",
   "execution_count": 0,
   "metadata": {
    "colab": {},
    "colab_type": "code",
    "id": "bbxy64MUS5zs"
   },
   "outputs": [],
   "source": [
    "# Get the embedding matrix\n",
    "embedding = weights[0]"
   ]
  },
  {
   "cell_type": "code",
   "execution_count": 0,
   "metadata": {
    "colab": {},
    "colab_type": "code",
    "id": "oJHCbTpLSU7s"
   },
   "outputs": [],
   "source": [
    "# get word embeddings for each word in the vocabulary, write to file\n",
    "\n",
    "f = open('vectors_skipgram.txt' ,'w')\n",
    "f.write(\" \".join([str(V-1),str(dim)]))\n",
    "f.write(\"\\n\")\n",
    "\n",
    "for word, i in tokenizer.word_index.items():\n",
    "    f.write(word)\n",
    "    f.write(\" \")\n",
    "    f.write(\" \".join(map(str, list(embedding[i,:]))))\n",
    "    f.write(\"\\n\")\n",
    "f.close()"
   ]
  },
  {
   "cell_type": "markdown",
   "metadata": {
    "colab_type": "text",
    "id": "4roJmc713h7T"
   },
   "source": [
    "## Analogy function and performance comparison\n",
    "\n",
    "Now that the model is trained, we can get the word embedding for each word in the vocabulary. We can perform an analogy task (see [1] for concrete examples), by adding and subtracting the embedding of words from each other. In the code below we use the Euclidean distance metric to compute the distane between the predicted embedding and the true word embedding, however other distance metrices can also be used. \n",
    "\n",
    "To get the word embedding $e_{word}$, we take the dot product of the one-hot encoding of the word and the embedding matrix, i.e. $e_{word} = E_{embedding} \\cdot V_{one-hot-word}$ (see also the lecture notes)."
   ]
  },
  {
   "cell_type": "code",
   "execution_count": 0,
   "metadata": {
    "colab": {},
    "colab_type": "code",
    "id": "hR4SuPRbS6NU"
   },
   "outputs": [],
   "source": [
    "# Embed a word by getting the one hot encoding and taking the dot product of this vector with the embedding matrix\n",
    "# 'word' = string type\n",
    "def embed(word, embedding=embedding, vocab_size = V, tokenizer=tokenizer):\n",
    "    # get the index of the word from the tokenizer, i.e. convert the string to it's corresponding integer in the vocabulary\n",
    "    int_word = tokenizer.texts_to_sequences([word])[0]\n",
    "    # get the one-hot encoding of the word\n",
    "    bin_word = to_categorical(int_word, V)\n",
    "    return np.dot(bin_word, embedding)"
   ]
  },
  {
   "cell_type": "markdown",
   "metadata": {
    "colab_type": "text",
    "id": "uqcebiN2zHK4"
   },
   "source": [
    "We can check whether an analogy function like $e_{king} - e_{queen} + e_{woman} \\approx e_{man}$ holds. In a perfect scenario, we would like that this formula ( $e_{king} - e_{queen} + e_{woman}$) results in the embedding of the word \"man\". However, it does not always result in exactly the same word embedding. The result of the formula is called the expected or the predicted word embedding. In this context, \"man\" is called the true or the actual word $t$. We want to find the word $p$ in the vocabulary, where the embedding of $p$ ($e_p$) is the closest to the predicted embedding (i.e. result of the formula). Then, we can check if $p$ is the same word as the true word $t$. We only compute the distance between the predicted embedding and the embedding of the true word. "
   ]
  },
  {
   "cell_type": "code",
   "execution_count": 0,
   "metadata": {
    "colab": {},
    "colab_type": "code",
    "id": "xyRoJlJCz9MB"
   },
   "outputs": [],
   "source": [
    "# TODO: compute the embedding by implementing the formula above. Use the embed function to get an embedding of a word\n",
    "predictedEmbedding = embed('king') - embed('queen') + embed('woman') # expected embedding = e_man"
   ]
  },
  {
   "cell_type": "markdown",
   "metadata": {
    "colab_type": "text",
    "id": "AHMTcrmzzc9Y"
   },
   "source": [
    "Compute the distance between expectedEmbedding and the embedding of the true word `man`."
   ]
  },
  {
   "cell_type": "code",
   "execution_count": 0,
   "metadata": {
    "colab": {
     "base_uri": "https://localhost:8080/",
     "height": 34
    },
    "colab_type": "code",
    "id": "YE1Al0uezdKR",
    "outputId": "e84b4e1d-7c63-4cc1-db5b-23a43dc824d3"
   },
   "outputs": [
    {
     "name": "stdout",
     "output_type": "stream",
     "text": [
      "0.5869373\n"
     ]
    }
   ],
   "source": [
    "# TODO: compute distance between the predicted embedding and the true word embedding using the Euclidean distance metric\n",
    "dist_exp_true = np.linalg.norm(predictedEmbedding - embed('man'))\n",
    "print(dist_exp_true)"
   ]
  },
  {
   "cell_type": "markdown",
   "metadata": {
    "colab_type": "text",
    "id": "iayrcVxH1E9N"
   },
   "source": [
    "We can use the distance metric to find if the expected word is equal to the actual word.  If the expected word embedding is the same as the word embedding of the true word, the model made a correct prediction."
   ]
  }
 ],
 "metadata": {
  "accelerator": "GPU",
  "colab": {
   "collapsed_sections": [],
   "name": "Practical_3.1_Answers (TF 2).ipynb",
   "provenance": []
  },
  "kernelspec": {
   "display_name": "Python 3",
   "language": "python",
   "name": "python3"
  },
  "language_info": {
   "codemirror_mode": {
    "name": "ipython",
    "version": 3
   },
   "file_extension": ".py",
   "mimetype": "text/x-python",
   "name": "python",
   "nbconvert_exporter": "python",
   "pygments_lexer": "ipython3",
   "version": "3.8.5"
  },
  "toc": {
   "base_numbering": 1,
   "nav_menu": {},
   "number_sections": true,
   "sideBar": true,
   "skip_h1_title": false,
   "title_cell": "Table of Contents",
   "title_sidebar": "Contents",
   "toc_cell": false,
   "toc_position": {},
   "toc_section_display": true,
   "toc_window_display": false
  }
 },
 "nbformat": 4,
 "nbformat_minor": 1
}
