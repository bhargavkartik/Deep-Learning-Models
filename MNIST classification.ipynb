{
 "cells": [
  {
   "cell_type": "markdown",
   "metadata": {
    "colab_type": "text",
    "id": "_TLQNpYmj6yT"
   },
   "source": [
    "# Author : Kartik B Bhargav\n",
    "\n",
    "## MLP model for MNIST classification\n",
    "\n",
    "Train a neural network to classify digits.\n"
   ]
  },
  {
   "cell_type": "code",
   "execution_count": 0,
   "metadata": {
    "colab": {},
    "colab_type": "code",
    "id": "6mYVZoEpf25Q"
   },
   "outputs": [],
   "source": [
    "%tensorflow_version 2.x"
   ]
  },
  {
   "cell_type": "code",
   "execution_count": 0,
   "metadata": {
    "colab": {},
    "colab_type": "code",
    "id": "NOpTXMVBk-bM"
   },
   "outputs": [],
   "source": [
    "# import libraries\n",
    "import tensorflow as tf\n",
    "from tensorflow import keras\n",
    "from tensorflow.keras.utils import to_categorical\n",
    "from tensorflow.keras.models import Sequential\n",
    "from tensorflow.keras.layers import Dense, Dropout, Flatten\n",
    "from tensorflow.keras.utils import plot_model\n",
    "import numpy as np\n",
    "import matplotlib.pyplot as plt"
   ]
  },
  {
   "cell_type": "code",
   "execution_count": 3,
   "metadata": {
    "colab": {
     "base_uri": "https://localhost:8080/",
     "height": 34
    },
    "colab_type": "code",
    "executionInfo": {
     "elapsed": 3007,
     "status": "ok",
     "timestamp": 1587634451251,
     "user": {
      "displayName": "Joris",
      "photoUrl": "",
      "userId": "16387411804571903952"
     },
     "user_tz": -120
    },
    "id": "cXdOthLdk-8D",
    "outputId": "a155eedf-30d9-46f4-b685-6f35a484d2da"
   },
   "outputs": [
    {
     "name": "stdout",
     "output_type": "stream",
     "text": [
      "2.2.0-rc3\n"
     ]
    }
   ],
   "source": [
    "print(tf.__version__) #  check what version of TF is imported"
   ]
  },
  {
   "cell_type": "markdown",
   "metadata": {
    "colab_type": "text",
    "id": "LdeJyCqumCCR"
   },
   "source": [
    "## Import MNIST data\n",
    "We obtain the MNIST data set directly through `Keras`, given a fully labelled training and test sets. Loading the dataset returns four `NumPy` arrays."
   ]
  },
  {
   "cell_type": "code",
   "execution_count": 4,
   "metadata": {
    "colab": {
     "base_uri": "https://localhost:8080/",
     "height": 67
    },
    "colab_type": "code",
    "executionInfo": {
     "elapsed": 6965,
     "status": "ok",
     "timestamp": 1587634455222,
     "user": {
      "displayName": "Joris",
      "photoUrl": "",
      "userId": "16387411804571903952"
     },
     "user_tz": -120
    },
    "id": "JGhghA7XlHs8",
    "outputId": "75b6f040-c251-4e1c-c4f4-b853defbca00"
   },
   "outputs": [
    {
     "name": "stdout",
     "output_type": "stream",
     "text": [
      "Downloading data from https://s3.amazonaws.com/img-datasets/mnist.npz\n"
     ]
    },
    {
     "name": "stderr",
     "output_type": "stream",
     "text": [
      "Using TensorFlow backend.\n"
     ]
    },
    {
     "name": "stdout",
     "output_type": "stream",
     "text": [
      "11493376/11490434 [==============================] - 2s 0us/step\n"
     ]
    }
   ],
   "source": [
    "from keras.datasets import mnist\n",
    "\n",
    "(x_train, y_train), (x_test, y_test) = mnist.load_data()"
   ]
  },
  {
   "cell_type": "markdown",
   "metadata": {
    "colab_type": "text",
    "id": "LFz6toKamWbb"
   },
   "source": [
    "Each example is an image of 28x28 pixels, given as integer grayscale values from 0 to 255. Each example has a label, an integer 0 to 9. `x_train` and `y_train` are the training data containing 60,000 samples, which the model uses to learn. `x_test` and `y_test` form the test set of 10,000 samples, which we use to evaluate the model performance."
   ]
  },
  {
   "cell_type": "code",
   "execution_count": 5,
   "metadata": {
    "colab": {
     "base_uri": "https://localhost:8080/",
     "height": 84
    },
    "colab_type": "code",
    "executionInfo": {
     "elapsed": 6952,
     "status": "ok",
     "timestamp": 1587634455225,
     "user": {
      "displayName": "Joris",
      "photoUrl": "",
      "userId": "16387411804571903952"
     },
     "user_tz": -120
    },
    "id": "WLIkVZvomUHf",
    "outputId": "df86aaec-24e3-46e7-93d9-ba42455f8a8d"
   },
   "outputs": [
    {
     "name": "stdout",
     "output_type": "stream",
     "text": [
      "(60000, 28, 28)\n",
      "(60000,)\n",
      "(10000, 28, 28)\n",
      "(10000,)\n"
     ]
    }
   ],
   "source": [
    "print(x_train.shape)\n",
    "print(y_train.shape)\n",
    "print(x_test.shape)\n",
    "print(y_test.shape)"
   ]
  },
  {
   "cell_type": "markdown",
   "metadata": {
    "colab_type": "text",
    "id": "fik1CKwYnQkT"
   },
   "source": [
    "Use `matplotlib` to quickly visualise some of the data."
   ]
  },
  {
   "cell_type": "code",
   "execution_count": 0,
   "metadata": {
    "colab": {},
    "colab_type": "code",
    "id": "Gcd5GtFfmZnD"
   },
   "outputs": [],
   "source": [
    "def plot_digit(example_id, X, Y):\n",
    "  example = X[example_id].reshape(width, height)\n",
    "  label = Y[example_id]\n",
    "  print(\"Class label:\", label)\n",
    "  plt.matshow(example, cmap=\"gray\")\n",
    "  plt.show();"
   ]
  },
  {
   "cell_type": "code",
   "execution_count": 7,
   "metadata": {
    "colab": {
     "base_uri": "https://localhost:8080/",
     "height": 34
    },
    "colab_type": "code",
    "executionInfo": {
     "elapsed": 6935,
     "status": "ok",
     "timestamp": 1587634455229,
     "user": {
      "displayName": "Joris",
      "photoUrl": "",
      "userId": "16387411804571903952"
     },
     "user_tz": -120
    },
    "id": "YqxawGR3nx4Q",
    "outputId": "c7ac3fbf-3674-463e-f13b-a23a026dd4f5"
   },
   "outputs": [
    {
     "data": {
      "text/plain": [
       "array([338])"
      ]
     },
     "execution_count": 7,
     "metadata": {
      "tags": []
     },
     "output_type": "execute_result"
    }
   ],
   "source": [
    "np.random.seed(13) # set seed such that np.random.choice always returns same index\n",
    "random_index = np.random.choice(len(x_test), 1)\n",
    "random_index"
   ]
  },
  {
   "cell_type": "code",
   "execution_count": 8,
   "metadata": {
    "colab": {
     "base_uri": "https://localhost:8080/",
     "height": 34
    },
    "colab_type": "code",
    "executionInfo": {
     "elapsed": 6927,
     "status": "ok",
     "timestamp": 1587634455231,
     "user": {
      "displayName": "Joris",
      "photoUrl": "",
      "userId": "16387411804571903952"
     },
     "user_tz": -120
    },
    "id": "5H8omywZoS42",
    "outputId": "f9f47577-4351-401e-b12d-3b839dfb7d26"
   },
   "outputs": [
    {
     "data": {
      "text/plain": [
       "(28, 28)"
      ]
     },
     "execution_count": 8,
     "metadata": {
      "tags": []
     },
     "output_type": "execute_result"
    }
   ],
   "source": [
    "width, height = x_train.shape[1], x_train.shape[2]\n",
    "width, height"
   ]
  },
  {
   "cell_type": "code",
   "execution_count": 9,
   "metadata": {
    "colab": {
     "base_uri": "https://localhost:8080/",
     "height": 292
    },
    "colab_type": "code",
    "executionInfo": {
     "elapsed": 6917,
     "status": "ok",
     "timestamp": 1587634455234,
     "user": {
      "displayName": "Joris",
      "photoUrl": "",
      "userId": "16387411804571903952"
     },
     "user_tz": -120
    },
    "id": "wWjaQFJKnlqD",
    "outputId": "4de377aa-eee5-4a79-d93c-049bdd2e2a6a"
   },
   "outputs": [
    {
     "name": "stdout",
     "output_type": "stream",
     "text": [
      "Class label: [8]\n"
     ]
    },
    {
     "data": {
      "image/png": "[encoded data removed]",
      "text/plain": [
       "<Figure size 288x288 with 1 Axes>"
      ]
     },
     "metadata": {
      "needs_background": "light",
      "tags": []
     },
     "output_type": "display_data"
    }
   ],
   "source": [
    "plot_digit(random_index, x_test, y_test) # plot random image from the test dataset"
   ]
  },
  {
   "cell_type": "markdown",
   "metadata": {
    "colab_type": "text",
    "id": "vpntzKktot_m"
   },
   "source": [
    "* The pixel values are given by integer values from 0 to 255, we normalise this to obtain float values from 0 to 1.\n",
    "* Labels are given as values 0 to 9, but here we need so-called \"one-hot\" encodings, e.g. 3 becomes [0,0,0,1,0,0,0,0,0,0]"
   ]
  },
  {
   "cell_type": "code",
   "execution_count": 0,
   "metadata": {
    "colab": {},
    "colab_type": "code",
    "id": "jI-mxDJGou59"
   },
   "outputs": [],
   "source": [
    "x_train = x_train.astype(\"float32\")\n",
    "x_test = x_test.astype(\"float32\")\n",
    "\n",
    "# normalise data\n",
    "x_train /= 255 \n",
    "x_test /= 255\n",
    "\n",
    "n_classes = 10\n",
    "\n",
    "# convert labels to one-hot encodings\n",
    "y_train = to_categorical(y_train, n_classes) \n",
    "y_test = to_categorical(y_test, n_classes)"
   ]
  },
  {
   "cell_type": "markdown",
   "metadata": {
    "colab_type": "text",
    "id": "tuQyHqczpH_H"
   },
   "source": [
    "Observe how the shapes of the labels have changed."
   ]
  },
  {
   "cell_type": "code",
   "execution_count": 11,
   "metadata": {
    "colab": {
     "base_uri": "https://localhost:8080/",
     "height": 101
    },
    "colab_type": "code",
    "executionInfo": {
     "elapsed": 6904,
     "status": "ok",
     "timestamp": 1587634455237,
     "user": {
      "displayName": "Joris",
      "photoUrl": "",
      "userId": "16387411804571903952"
     },
     "user_tz": -120
    },
    "id": "m1aMNsWlow3J",
    "outputId": "42bf435a-a22a-424f-802e-f66a44b9ffd5"
   },
   "outputs": [
    {
     "name": "stdout",
     "output_type": "stream",
     "text": [
      "(60000, 28, 28)\n",
      "(60000, 10)\n",
      "(10000, 28, 28)\n",
      "(10000, 10)\n",
      "example one-hot encoding: [0. 0. 0. 0. 0. 1. 0. 0. 0. 0.]\n"
     ]
    }
   ],
   "source": [
    "print(x_train.shape)\n",
    "print(y_train.shape)\n",
    "print(x_test.shape)\n",
    "print(y_test.shape)\n",
    "print(\"example one-hot encoding:\", y_train[0])"
   ]
  },
  {
   "cell_type": "markdown",
   "metadata": {
    "colab_type": "text",
    "id": "mQKVR0DTqNM9"
   },
   "source": [
    "# Model architecture & settings\n",
    "\n",
    "We build an MLP with two hidden layers, with the given number of hidden units. We also include Dropout for each of the layers, with the given dropout rate."
   ]
  },
  {
   "cell_type": "code",
   "execution_count": 0,
   "metadata": {
    "colab": {},
    "colab_type": "code",
    "id": "YuxUVihSpuPP"
   },
   "outputs": [],
   "source": [
    "intermediate_dim1 = 256\n",
    "intermediate_dim2 = 128\n",
    "dropout_rate = 0.2"
   ]
  },
  {
   "cell_type": "markdown",
   "metadata": {
    "colab_type": "text",
    "id": "SmidM6FiqRgu"
   },
   "source": [
    "* Initialise a Keras Sequential model\n",
    "* Add a Flatten layer, which transforms the format of the images from a two dimensional array (28,28) to a one dimensional array of 28*28 = 784 elements. Dense layers (which we add after this Flatten layer) expect the data to be given as vectors, not matrices. The first layer  (i.e. the Flatten layer in this model) must explicitly receive the shape of the input (`width`, `height`) , following layers can do automatice shape inference.\n",
    "* Add two hidden (Dense) layers with ReLU activations and dropout, then a (Dense) Softmax layer with 10 classes (to obtain classification predictions summing up to 1). \n",
    "* Compile the model with the following settings:\n",
    "    * use stochastic gradient descent with the \"adadelta\" optimizer to train the model\n",
    "    * MNIST is a multi-class classification problem, use categorical cross entropy loss function\n",
    "    * output accuracy (% of correctly classified instances) when evaluating the model\n",
    "\n",
    "    "
   ]
  },
  {
   "cell_type": "code",
   "execution_count": 0,
   "metadata": {
    "colab": {},
    "colab_type": "code",
    "id": "XIRMOl9BqQQ6"
   },
   "outputs": [],
   "source": [
    "# TODO implement model here\n",
    "model = Sequential()\n",
    "model.add(Flatten(input_shape = (width,height)))\n",
    "model.add(Dense(intermediate_dim1, activation='relu'))\n",
    "model.add(Dropout(dropout_rate))\n",
    "model.add(Dense(intermediate_dim2, activation='relu'))\n",
    "model.add(Dropout(dropout_rate))\n",
    "model.add(Dense(n_classes, activation='softmax'))\n",
    "model.compile(loss='categorical_crossentropy',\n",
    "              optimizer='adadelta',\n",
    "              metrics=['accuracy'])"
   ]
  },
  {
   "cell_type": "markdown",
   "metadata": {
    "colab_type": "text",
    "id": "gnsS8MWnEzxl"
   },
   "source": [
    "We can use `Keras.utils.plot_model` to visualize the architecture of the model. This is very useful if you want to see an overview of the input and output shapes per layer."
   ]
  },
  {
   "cell_type": "code",
   "execution_count": 14,
   "metadata": {
    "colab": {
     "base_uri": "https://localhost:8080/",
     "height": 754
    },
    "colab_type": "code",
    "executionInfo": {
     "elapsed": 14891,
     "status": "ok",
     "timestamp": 1587634463243,
     "user": {
      "displayName": "Joris",
      "photoUrl": "",
      "userId": "16387411804571903952"
     },
     "user_tz": -120
    },
    "id": "AVK__Jc6Fej1",
    "outputId": "7a1efd51-e210-489e-dec1-b2340b2db529"
   },
   "outputs": [
    {
     "data": {
      "image/png": "[encoded data removed]",
      "text/plain": [
       "<IPython.core.display.Image object>"
      ]
     },
     "execution_count": 14,
     "metadata": {
      "tags": []
     },
     "output_type": "execute_result"
    }
   ],
   "source": [
    "plot_model(model, show_shapes = True, show_layer_names=False)"
   ]
  },
  {
   "cell_type": "code",
   "execution_count": 15,
   "metadata": {
    "colab": {
     "base_uri": "https://localhost:8080/",
     "height": 353
    },
    "colab_type": "code",
    "executionInfo": {
     "elapsed": 14882,
     "status": "ok",
     "timestamp": 1587634463247,
     "user": {
      "displayName": "Joris",
      "photoUrl": "",
      "userId": "16387411804571903952"
     },
     "user_tz": -120
    },
    "id": "1EJlVgoX52VE",
    "outputId": "0c0842d8-63c8-43ba-a35d-48ea93a88fab"
   },
   "outputs": [
    {
     "name": "stdout",
     "output_type": "stream",
     "text": [
      "Model: \"sequential\"\n",
      "_________________________________________________________________\n",
      "Layer (type)                 Output Shape              Param #   \n",
      "=================================================================\n",
      "flatten (Flatten)            (None, 784)               0         \n",
      "_________________________________________________________________\n",
      "dense (Dense)                (None, 256)               200960    \n",
      "_________________________________________________________________\n",
      "dropout (Dropout)            (None, 256)               0         \n",
      "_________________________________________________________________\n",
      "dense_1 (Dense)              (None, 128)               32896     \n",
      "_________________________________________________________________\n",
      "dropout_1 (Dropout)          (None, 128)               0         \n",
      "_________________________________________________________________\n",
      "dense_2 (Dense)              (None, 10)                1290      \n",
      "=================================================================\n",
      "Total params: 235,146\n",
      "Trainable params: 235,146\n",
      "Non-trainable params: 0\n",
      "_________________________________________________________________\n"
     ]
    }
   ],
   "source": [
    "model.summary() # shows the number of parameters in the model"
   ]
  },
  {
   "cell_type": "markdown",
   "metadata": {
    "colab_type": "text",
    "id": "vGD4Gc5gsRkv"
   },
   "source": [
    "## Training the model\n",
    "\n",
    "Train the model (using stochastic gradient descent) with given batch size, for given number of epochs. We split 1/12-th of the data (5,000 of the 60,000 samples) as validation data, such that we can use the validation accuracy for hyperparameter tuning.\n",
    "\n",
    "<b>HINT</b>: To increase training speed of your model, you can use the free available GPU power in Google Colab. Go to `Edit` --> `Notebook Settings` --> select `GPU` under `hardware accelerator`.\n",
    "\n",
    "Use [keras.Model.fit](https://www.tensorflow.org/api_docs/python/tf/keras/Model#fit) to train the model on the training data. Validate on 1/12th of the data and use the given batch size and number of epochs."
   ]
  },
  {
   "cell_type": "code",
   "execution_count": 16,
   "metadata": {
    "colab": {
     "base_uri": "https://localhost:8080/",
     "height": 709
    },
    "colab_type": "code",
    "executionInfo": {
     "elapsed": 44436,
     "status": "ok",
     "timestamp": 1587634492812,
     "user": {
      "displayName": "Joris",
      "photoUrl": "",
      "userId": "16387411804571903952"
     },
     "user_tz": -120
    },
    "id": "KT8oy7cusG1-",
    "outputId": "c3336c35-d1ca-44d6-dd5c-c1efe27bb00a"
   },
   "outputs": [
    {
     "name": "stdout",
     "output_type": "stream",
     "text": [
      "Epoch 1/20\n",
      "550/550 [==============================] - 2s 3ms/step - loss: 2.3254 - accuracy: 0.1364 - val_loss: 2.2682 - val_accuracy: 0.1832\n",
      "Epoch 2/20\n",
      "550/550 [==============================] - 1s 2ms/step - loss: 2.2598 - accuracy: 0.1791 - val_loss: 2.1996 - val_accuracy: 0.2732\n",
      "Epoch 3/20\n",
      "550/550 [==============================] - 1s 2ms/step - loss: 2.1990 - accuracy: 0.2333 - val_loss: 2.1345 - val_accuracy: 0.3748\n",
      "Epoch 4/20\n",
      "550/550 [==============================] - 1s 2ms/step - loss: 2.1392 - accuracy: 0.2931 - val_loss: 2.0699 - val_accuracy: 0.4654\n",
      "Epoch 5/20\n",
      "550/550 [==============================] - 1s 3ms/step - loss: 2.0822 - accuracy: 0.3502 - val_loss: 2.0041 - val_accuracy: 0.5388\n",
      "Epoch 6/20\n",
      "550/550 [==============================] - 1s 2ms/step - loss: 2.0225 - accuracy: 0.3986 - val_loss: 1.9367 - val_accuracy: 0.6012\n",
      "Epoch 7/20\n",
      "550/550 [==============================] - 1s 2ms/step - loss: 1.9638 - accuracy: 0.4480 - val_loss: 1.8676 - val_accuracy: 0.6456\n",
      "Epoch 8/20\n",
      "550/550 [==============================] - 1s 2ms/step - loss: 1.8999 - accuracy: 0.4885 - val_loss: 1.7968 - val_accuracy: 0.6790\n",
      "Epoch 9/20\n",
      "550/550 [==============================] - 1s 3ms/step - loss: 1.8383 - accuracy: 0.5216 - val_loss: 1.7248 - val_accuracy: 0.7020\n",
      "Epoch 10/20\n",
      "550/550 [==============================] - 1s 2ms/step - loss: 1.7753 - accuracy: 0.5487 - val_loss: 1.6523 - val_accuracy: 0.7210\n",
      "Epoch 11/20\n",
      "550/550 [==============================] - 1s 2ms/step - loss: 1.7094 - accuracy: 0.5763 - val_loss: 1.5797 - val_accuracy: 0.7348\n",
      "Epoch 12/20\n",
      "550/550 [==============================] - 1s 2ms/step - loss: 1.6471 - accuracy: 0.5981 - val_loss: 1.5080 - val_accuracy: 0.7490\n",
      "Epoch 13/20\n",
      "550/550 [==============================] - 1s 2ms/step - loss: 1.5860 - accuracy: 0.6145 - val_loss: 1.4370 - val_accuracy: 0.7622\n",
      "Epoch 14/20\n",
      "550/550 [==============================] - 1s 2ms/step - loss: 1.5246 - accuracy: 0.6323 - val_loss: 1.3679 - val_accuracy: 0.7732\n",
      "Epoch 15/20\n",
      "550/550 [==============================] - 1s 2ms/step - loss: 1.4662 - accuracy: 0.6478 - val_loss: 1.3015 - val_accuracy: 0.7848\n",
      "Epoch 16/20\n",
      "550/550 [==============================] - 1s 2ms/step - loss: 1.4087 - accuracy: 0.6591 - val_loss: 1.2378 - val_accuracy: 0.7946\n",
      "Epoch 17/20\n",
      "550/550 [==============================] - 1s 2ms/step - loss: 1.3525 - accuracy: 0.6721 - val_loss: 1.1769 - val_accuracy: 0.8054\n",
      "Epoch 18/20\n",
      "550/550 [==============================] - 1s 2ms/step - loss: 1.3009 - accuracy: 0.6847 - val_loss: 1.1193 - val_accuracy: 0.8126\n",
      "Epoch 19/20\n",
      "550/550 [==============================] - 1s 2ms/step - loss: 1.2539 - accuracy: 0.6904 - val_loss: 1.0651 - val_accuracy: 0.8200\n",
      "Epoch 20/20\n",
      "550/550 [==============================] - 1s 2ms/step - loss: 1.2081 - accuracy: 0.6992 - val_loss: 1.0142 - val_accuracy: 0.8272\n"
     ]
    }
   ],
   "source": [
    "batch_size = 100\n",
    "epochs = 20\n",
    "\n",
    "# TODO fit the model on training data\n",
    "history = model.fit(x_train, y_train,\n",
    "          batch_size=batch_size,\n",
    "          epochs=epochs,\n",
    "          validation_split=1/12)"
   ]
  },
  {
   "cell_type": "markdown",
   "metadata": {
    "colab_type": "text",
    "id": "g3PuYLttBcsU"
   },
   "source": [
    "The returned `history` object holds a record of the loss values and metric values during training. We will use this object later to plot the loss and accuracy values for each epoch."
   ]
  },
  {
   "cell_type": "markdown",
   "metadata": {
    "colab_type": "text",
    "id": "5KGMLlgisVsZ"
   },
   "source": [
    "# Evaluating the model\n",
    "\n",
    "We evaluate the model using the test set, obtaining the test loss and accuracy (% examples correctly classified)\n",
    "\n",
    "Use [keras.Model.evaluate](https://www.tensorflow.org/api_docs/python/tf/keras/Model#evaluate) to evaluate the model on the test data. Note that `keras.model.evaluate` returns a list, where in this case the first element corresponds to the loss and the second element corresponds to the accuracy of the model on the given test data."
   ]
  },
  {
   "cell_type": "code",
   "execution_count": 17,
   "metadata": {
    "colab": {
     "base_uri": "https://localhost:8080/",
     "height": 87
    },
    "colab_type": "code",
    "executionInfo": {
     "elapsed": 45277,
     "status": "ok",
     "timestamp": 1587634493662,
     "user": {
      "displayName": "Joris",
      "photoUrl": "",
      "userId": "16387411804571903952"
     },
     "user_tz": -120
    },
    "id": "8N5FjSH-sfbM",
    "outputId": "789fc060-6d62-418b-85d0-341508290803"
   },
   "outputs": [
    {
     "name": "stdout",
     "output_type": "stream",
     "text": [
      "313/313 [==============================] - 1s 2ms/step - loss: 1.0532 - accuracy: 0.7964\n",
      "Test loss: 1.05\n",
      "Test accuracy: 0.80\n"
     ]
    }
   ],
   "source": [
    "# TODO evaluate on test data\n",
    "\n",
    "loss, accuracy = model.evaluate(x_test, y_test)\n",
    "\n",
    "print('Test loss: {:.2f}'.format(loss))\n",
    "print('Test accuracy: {:.2f}'.format(accuracy))"
   ]
  },
  {
   "cell_type": "markdown",
   "metadata": {
    "colab_type": "text",
    "id": "gejMvsJytLWV"
   },
   "source": [
    "We can use the `history` object to plot the loss and accuracy values for each epoch."
   ]
  },
  {
   "cell_type": "code",
   "execution_count": 18,
   "metadata": {
    "colab": {
     "base_uri": "https://localhost:8080/",
     "height": 295
    },
    "colab_type": "code",
    "executionInfo": {
     "elapsed": 45259,
     "status": "ok",
     "timestamp": 1587634493665,
     "user": {
      "displayName": "Joris",
      "photoUrl": "",
      "userId": "16387411804571903952"
     },
     "user_tz": -120
    },
    "id": "W2_s4M6us81K",
    "outputId": "b5d3194c-a99e-4112-a7fc-cf10496eb5ff"
   },
   "outputs": [
    {
     "data": {
      "image/png": "[encoded data removed]",
      "text/plain": [
       "<Figure size 432x288 with 1 Axes>"
      ]
     },
     "metadata": {
      "needs_background": "light",
      "tags": []
     },
     "output_type": "display_data"
    }
   ],
   "source": [
    "plt.plot(history.history['loss'], label='loss')\n",
    "plt.plot(history.history['val_loss'], label = 'val_loss')\n",
    "plt.title('Model loss')\n",
    "plt.ylabel('Loss')\n",
    "plt.xlabel('Epoch')\n",
    "plt.legend(['Train loss', 'Test loss'], loc='upper right')\n",
    "plt.show();"
   ]
  },
  {
   "cell_type": "code",
   "execution_count": 19,
   "metadata": {
    "colab": {
     "base_uri": "https://localhost:8080/",
     "height": 295
    },
    "colab_type": "code",
    "executionInfo": {
     "elapsed": 45252,
     "status": "ok",
     "timestamp": 1587634493669,
     "user": {
      "displayName": "Joris",
      "photoUrl": "",
      "userId": "16387411804571903952"
     },
     "user_tz": -120
    },
    "id": "-_BAGoB9vat0",
    "outputId": "836afd8d-f18e-445d-eb4f-f8679e6537fa"
   },
   "outputs": [
    {
     "data": {
      "image/png": "[encoded data removed]",
      "text/plain": [
       "<Figure size 432x288 with 1 Axes>"
      ]
     },
     "metadata": {
      "needs_background": "light",
      "tags": []
     },
     "output_type": "display_data"
    }
   ],
   "source": [
    "plt.plot(history.history['accuracy'], label='loss')\n",
    "plt.plot(history.history['val_accuracy'], label = 'val_loss')\n",
    "plt.title('Model accuracy')\n",
    "plt.ylabel('Accuracy')\n",
    "plt.xlabel('Epoch')\n",
    "plt.legend(['Train accuracy', 'Test accuracy'], loc='upper right')\n",
    "plt.show();"
   ]
  },
  {
   "cell_type": "markdown",
   "metadata": {
    "colab_type": "text",
    "id": "-_oQI5MdvkSN"
   },
   "source": [
    "## Make predictions\n",
    "\n",
    "When the model is trained, we can use it to make predictions about some images. We can use [keras.Model.predict](https://www.tensorflow.org/api_docs/python/tf/keras/Model#predict) on the model object defined earlier in this notebook. The model expects input as a <i>batch</i>, i.e. the input shape is (batch_size, `width`, `height`). Therefore, even when you want to use a single image to test, we have to reshape the test image to (1,`width`, `height`) before feeding into the network. The model returns an array of size `n_classes` where for each class the model predicts the probability this sample belongs to that class."
   ]
  },
  {
   "cell_type": "code",
   "execution_count": 20,
   "metadata": {
    "colab": {
     "base_uri": "https://localhost:8080/",
     "height": 67
    },
    "colab_type": "code",
    "executionInfo": {
     "elapsed": 45241,
     "status": "ok",
     "timestamp": 1587634493671,
     "user": {
      "displayName": "Joris",
      "photoUrl": "",
      "userId": "16387411804571903952"
     },
     "user_tz": -120
    },
    "id": "7d167qvBvfVY",
    "outputId": "37478746-99a3-45f2-ac53-1e1bfd8ec6a6"
   },
   "outputs": [
    {
     "data": {
      "text/plain": [
       "array([[0.3690841 , 0.00903347, 0.09533335, 0.17133808, 0.04287897,\n",
       "        0.11951906, 0.01832986, 0.01287283, 0.12341908, 0.03819128]],\n",
       "      dtype=float32)"
      ]
     },
     "execution_count": 20,
     "metadata": {
      "tags": []
     },
     "output_type": "execute_result"
    }
   ],
   "source": [
    "# TODO: select one image from the test data and reshape the image to the correct shape (1,width,height) using .reshape from the NumPy library\n",
    "image_reshape = x_test[random_index].reshape(1, width, height)\n",
    "# TODO: let the model predict one image\n",
    "predictions = model.predict(image_reshape)\n",
    "predictions"
   ]
  },
  {
   "cell_type": "markdown",
   "metadata": {
    "colab_type": "text",
    "id": "DqSngeUWxSLF"
   },
   "source": [
    "To see which label has the highest probability, we use `np.argmax` to return the <u>index</u> of the maximum value."
   ]
  },
  {
   "cell_type": "code",
   "execution_count": 21,
   "metadata": {
    "colab": {
     "base_uri": "https://localhost:8080/",
     "height": 34
    },
    "colab_type": "code",
    "executionInfo": {
     "elapsed": 45234,
     "status": "ok",
     "timestamp": 1587634493673,
     "user": {
      "displayName": "Joris",
      "photoUrl": "",
      "userId": "16387411804571903952"
     },
     "user_tz": -120
    },
    "id": "f_LX9Bbew7s3",
    "outputId": "e9daa3c6-4d16-4eb3-f420-16ab7a0e4b54"
   },
   "outputs": [
    {
     "data": {
      "text/plain": [
       "0"
      ]
     },
     "execution_count": 21,
     "metadata": {
      "tags": []
     },
     "output_type": "execute_result"
    }
   ],
   "source": [
    "pred_label = np.argmax(predictions[0]) # predicted label\n",
    "pred_label"
   ]
  },
  {
   "cell_type": "markdown",
   "metadata": {
    "colab_type": "text",
    "id": "6LvJgbPwyLUR"
   },
   "source": [
    "We can use the true label to test if the classification of the model is correct."
   ]
  },
  {
   "cell_type": "code",
   "execution_count": 22,
   "metadata": {
    "colab": {
     "base_uri": "https://localhost:8080/",
     "height": 34
    },
    "colab_type": "code",
    "executionInfo": {
     "elapsed": 45169,
     "status": "ok",
     "timestamp": 1587634493675,
     "user": {
      "displayName": "Joris",
      "photoUrl": "",
      "userId": "16387411804571903952"
     },
     "user_tz": -120
    },
    "id": "zTHwuSaqyAvJ",
    "outputId": "5a5aa6b5-89b6-47e1-ad9b-7d8727bbbba1"
   },
   "outputs": [
    {
     "data": {
      "text/plain": [
       "8"
      ]
     },
     "execution_count": 22,
     "metadata": {
      "tags": []
     },
     "output_type": "execute_result"
    }
   ],
   "source": [
    "true_label = np.argmax(y_test[random_index]) # true label\n",
    "true_label"
   ]
  },
  {
   "cell_type": "code",
   "execution_count": 23,
   "metadata": {
    "colab": {
     "base_uri": "https://localhost:8080/",
     "height": 34
    },
    "colab_type": "code",
    "executionInfo": {
     "elapsed": 45155,
     "status": "ok",
     "timestamp": 1587634493677,
     "user": {
      "displayName": "Joris",
      "photoUrl": "",
      "userId": "16387411804571903952"
     },
     "user_tz": -120
    },
    "id": "jKiEfdv-ChSI",
    "outputId": "1f0dd49c-9311-4427-c22f-e4d35348cc9f"
   },
   "outputs": [
    {
     "name": "stdout",
     "output_type": "stream",
     "text": [
      "The model misclassified this sample.\n"
     ]
    }
   ],
   "source": [
    "if pred_label == true_label:\n",
    "  print('The model correctly classified this sample.')\n",
    "else:\n",
    "  print('The model misclassified this sample.')"
   ]
  }
 ],
 "metadata": {
  "accelerator": "GPU",
  "colab": {
   "authorship_tag": "ABX9TyP8eKwd0/Xe3OCTH81lOeZx",
   "collapsed_sections": [],
   "name": "Practical_2.1_Answer (TF 2).ipynb",
   "provenance": []
  },
  "kernelspec": {
   "display_name": "Python 3",
   "language": "python",
   "name": "python3"
  },
  "language_info": {
   "codemirror_mode": {
    "name": "ipython",
    "version": 3
   },
   "file_extension": ".py",
   "mimetype": "text/x-python",
   "name": "python",
   "nbconvert_exporter": "python",
   "pygments_lexer": "ipython3",
   "version": "3.8.5"
  },
  "toc": {
   "base_numbering": 1,
   "nav_menu": {},
   "number_sections": true,
   "sideBar": true,
   "skip_h1_title": false,
   "title_cell": "Table of Contents",
   "title_sidebar": "Contents",
   "toc_cell": false,
   "toc_position": {},
   "toc_section_display": true,
   "toc_window_display": false
  }
 },
 "nbformat": 4,
 "nbformat_minor": 1
}
