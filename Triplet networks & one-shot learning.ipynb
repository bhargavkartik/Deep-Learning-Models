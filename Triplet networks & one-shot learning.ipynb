{
 "cells": [
  {
   "cell_type": "markdown",
   "metadata": {
    "colab_type": "text",
    "id": "uj4T8PEHGbMF"
   },
   "source": [
    "# Author : Kartik B Bhargav"
   ]
  },
  {
   "cell_type": "markdown",
   "metadata": {
    "colab_type": "text",
    "id": "p-gkaM1tCThc"
   },
   "source": [
    "***\n",
    "## Triplet networks & one-shot learning\n",
    "\n",
    "I worked on the Omniglot data set with the same task but extend it to triplet networks, I also compared our model performance under different triplet selection method."
   ]
  },
  {
   "cell_type": "markdown",
   "metadata": {
    "colab_type": "text",
    "id": "ZqdQgnI5AuN5"
   },
   "source": [
    "### Import packages and mount data\n",
    "Before everything, we need to import packages and mount data."
   ]
  },
  {
   "cell_type": "code",
   "execution_count": 3,
   "metadata": {
    "ExecuteTime": {
     "end_time": "2020-05-29T18:15:18.867631Z",
     "start_time": "2020-05-29T18:15:18.863612Z"
    }
   },
   "outputs": [
    {
     "data": {
      "text/html": [
       "<style>.container { width:100% !important; }</style>"
      ],
      "text/plain": [
       "<IPython.core.display.HTML object>"
      ]
     },
     "metadata": {},
     "output_type": "display_data"
    }
   ],
   "source": [
    "from IPython.core.display import display, HTML\n",
    "display(HTML(\"<style>.container { width:100% !important; }</style>\"))"
   ]
  },
  {
   "cell_type": "code",
   "execution_count": 0,
   "metadata": {
    "colab": {},
    "colab_type": "code",
    "id": "8QdDDUEIAuN6"
   },
   "outputs": [],
   "source": [
    "import tensorflow as tf\n",
    "from sklearn.metrics.pairwise import manhattan_distances\n",
    "from sklearn.metrics.pairwise import euclidean_distances\n",
    "\n",
    "from numpy import *\n",
    "from tensorflow.keras import backend as K\n",
    "from tensorflow.keras.layers import Input, Conv2D, Lambda, Dense, Flatten, MaxPooling2D, Dropout,Concatenate, BatchNormalization\n",
    "from tensorflow.keras.layers import ReLU, Reshape\n",
    "from tensorflow.keras.models import Model, Sequential\n",
    "from tensorflow.keras.regularizers import l2\n",
    "from tensorflow.keras.optimizers import Adam\n",
    "from tensorflow.keras.losses import binary_crossentropy\n",
    "import numpy as np\n",
    "import os\n",
    "import pickle\n",
    "import matplotlib.pyplot as plt\n",
    "from sklearn.utils import shuffle"
   ]
  },
  {
   "cell_type": "code",
   "execution_count": 0,
   "metadata": {
    "colab": {
     "base_uri": "https://localhost:8080/",
     "height": 122
    },
    "colab_type": "code",
    "id": "YzhGJvL2A7aL",
    "outputId": "6e345369-59e0-430f-d8f0-80a9810202f8"
   },
   "outputs": [
    {
     "name": "stdout",
     "output_type": "stream",
     "text": [
      "Go to this URL in a browser: https://accounts.google.com/o/oauth2/auth?client_id=947318989803-6bn6qk8qdgf4n4g3pfee6491hc0brc4i.apps.googleusercontent.com&redirect_uri=urn%3aietf%3awg%3aoauth%3a2.0%3aoob&response_type=code&scope=email%20https%3a%2f%2fwww.googleapis.com%2fauth%2fdocs.test%20https%3a%2f%2fwww.googleapis.com%2fauth%2fdrive%20https%3a%2f%2fwww.googleapis.com%2fauth%2fdrive.photos.readonly%20https%3a%2f%2fwww.googleapis.com%2fauth%2fpeopleapi.readonly\n",
      "\n",
      "Enter your authorization code:\n",
      "··········\n",
      "Mounted at drive\n"
     ]
    }
   ],
   "source": [
    "# mount the data needed to drive folder so we can use them in colab\n",
    "from google.colab import drive\n",
    "!mkdir drive\n",
    "drive.mount('drive')"
   ]
  },
  {
   "cell_type": "code",
   "execution_count": 0,
   "metadata": {
    "colab": {
     "base_uri": "https://localhost:8080/",
     "height": 173
    },
    "colab_type": "code",
    "id": "NEy5u5WBAuN_",
    "outputId": "340025c0-feee-4c9b-c6b9-42f55e346b1d"
   },
   "outputs": [
    {
     "name": "stdout",
     "output_type": "stream",
     "text": [
      "True exists\n",
      "X_train shape: (964, 20, 105, 105)\n",
      "X_test shape: (659, 20, 105, 105)\n",
      "\n",
      "training alphabets\n",
      "['Braille', 'Anglo-Saxon_Futhorc', 'Tifinagh', 'Grantha', 'Burmese_(Myanmar)', 'Mkhedruli_(Georgian)', 'Latin', 'Ojibwe_(Canadian_Aboriginal_Syllabics)', 'Balinese', 'Malay_(Jawi_-_Arabic)', 'Early_Aramaic', 'Korean', 'Japanese_(hiragana)', 'Armenian', 'Cyrillic', 'Hebrew', 'Syriac_(Estrangelo)', 'Japanese_(katakana)', 'Blackfoot_(Canadian_Aboriginal_Syllabics)', 'N_Ko', 'Alphabet_of_the_Magi', 'Inuktitut_(Canadian_Aboriginal_Syllabics)', 'Greek', 'Bengali', 'Tagalog', 'Futurama', 'Arcadian', 'Gujarati', 'Asomtavruli_(Georgian)', 'Sanskrit']\n",
      "test alphabets:\n",
      "['ULOG', 'Atemayar_Qelisayer', 'Ge_ez', 'Gurmukhi', 'Tengwar', 'Keble', 'Malayalam', 'Oriya', 'Kannada', 'Mongolian', 'Angelic', 'Atlantean', 'Syriac_(Serto)', 'Aurek-Besh', 'Avesta', 'Glagolitic', 'Sylheti', 'Tibetan', 'Manipuri', 'Old_Church_Slavonic_(Cyrillic)']\n"
     ]
    }
   ],
   "source": [
    "PATH = os.path.join(\"drive\",\"My Drive\",\"data_DL_practical\")\n",
    "print(os.path.exists(PATH), \"exists\")\n",
    "\n",
    "with open(os.path.join(PATH, \"omniglot_train.p\"), \"rb\") as f:\n",
    "    (X_train, c_train) = pickle.load(f)\n",
    "\n",
    "with open(os.path.join(PATH, \"omniglot_test.p\"), \"rb\") as f:\n",
    "    (X_test, c_test) = pickle.load(f)\n",
    "\n",
    "print(\"X_train shape:\", X_train.shape)\n",
    "print(\"X_test shape:\", X_test.shape)\n",
    "print(\"\")\n",
    "print(\"training alphabets\")\n",
    "print([key for key in c_train.keys()])\n",
    "print(\"test alphabets:\")\n",
    "print([key for key in c_test.keys()])"
   ]
  },
  {
   "cell_type": "markdown",
   "metadata": {
    "colab_type": "text",
    "id": "QP79HYQrXD2k"
   },
   "source": [
    "### Task 2.1: Build  the triplet network "
   ]
  },
  {
   "cell_type": "markdown",
   "metadata": {
    "colab_type": "text",
    "id": "1WHpL8iHAuOH"
   },
   "source": [
    "We will define a triplet Network for use with the Omniglot dataset. Each branch of the triplet  is a \"convnet\" model that transforms data to an embeddings space."
   ]
  },
  {
   "cell_type": "code",
   "execution_count": 0,
   "metadata": {
    "colab": {
     "base_uri": "https://localhost:8080/",
     "height": 34
    },
    "colab_type": "code",
    "id": "MK66WkCSXKXy",
    "outputId": "9613e754-8985-45b3-fad6-6be264252391"
   },
   "outputs": [
    {
     "data": {
      "text/plain": [
       "(20, 105, 105)"
      ]
     },
     "execution_count": 4,
     "metadata": {
      "tags": []
     },
     "output_type": "execute_result"
    }
   ],
   "source": [
    "X_train[0].shape"
   ]
  },
  {
   "cell_type": "code",
   "execution_count": 0,
   "metadata": {
    "colab": {
     "base_uri": "https://localhost:8080/",
     "height": 268
    },
    "colab_type": "code",
    "id": "NShgR6ASXr-d",
    "outputId": "6b0dddf0-d19d-4a65-c922-a3c9d3791591"
   },
   "outputs": [
    {
     "data": {
      "image/png": "[encoded data removed]",
      "text/plain": [
       "<Figure size 432x288 with 1 Axes>"
      ]
     },
     "metadata": {
      "needs_background": "light",
      "tags": []
     },
     "output_type": "display_data"
    }
   ],
   "source": [
    "plt.imshow(X_train[1][0])\n",
    "plt.show()"
   ]
  },
  {
   "cell_type": "code",
   "execution_count": 0,
   "metadata": {
    "colab": {},
    "colab_type": "code",
    "id": "GQNaMa8hXD2l"
   },
   "outputs": [],
   "source": [
    "# define a convnet model to transforms data to an embeddings space. \n",
    "def generate_convnet():\n",
    "  input_shape = (105, 105, 1)\n",
    "  convnet = Sequential(name='convnet_model')\n",
    "\n",
    "  convnet.add(Conv2D(64, (10,10), activation='relu', input_shape=input_shape, kernel_regularizer=l2(2e-4)))\n",
    "  convnet.add(MaxPooling2D())\n",
    "  convnet.add(BatchNormalization())\n",
    "  convnet.add(Dropout(0.25))\n",
    "\n",
    "  convnet.add(Conv2D(128, (7,7), activation='relu', kernel_regularizer=l2(2e-4)))\n",
    "  convnet.add(MaxPooling2D())\n",
    "  convnet.add(BatchNormalization())\n",
    "  convnet.add(Dropout(0.25))\n",
    "\n",
    "  convnet.add(Conv2D(128, (4,4), activation='relu', kernel_regularizer=l2(2e-4)))\n",
    "  convnet.add(MaxPooling2D())\n",
    "  convnet.add(BatchNormalization())\n",
    "  convnet.add(Dropout(0.25))\n",
    "\n",
    "  convnet.add(Conv2D(256, (4,4), activation='relu', kernel_regularizer=l2(2e-4)))\n",
    "  convnet.add(Flatten())\n",
    "  convnet.add(BatchNormalization())\n",
    "  convnet.add(Dropout(0.25))\n",
    "  \n",
    "  convnet.add(Dense(4096, activation=\"sigmoid\", kernel_regularizer=l2(1e-3)))\n",
    "  convnet.add(Reshape((1,4096)))\n",
    "  convnet.summary()\n",
    "  return convnet"
   ]
  },
  {
   "cell_type": "code",
   "execution_count": 0,
   "metadata": {
    "colab": {},
    "colab_type": "code",
    "id": "RXVuWeCsAuOI"
   },
   "outputs": [],
   "source": [
    "# define a Triplet network\n",
    "def generate_triplet_network():\n",
    "# The anchor, positive, negative image are merged together, as the input of the triplet network, then got split to get each one's neural codes.\n",
    "  generated = Input(shape=(3,105, 105,1), name='input')\n",
    "\n",
    "  anchor  = Lambda(lambda x: x[:,0])(generated)\n",
    "  pos     = Lambda(lambda x: x[:,1])(generated)\n",
    "  neg     = Lambda(lambda x: x[:,2])(generated)\n",
    "\n",
    "  convnet = generate_convnet()\n",
    "\n",
    "  anchor_embedding = convnet(anchor)\n",
    "  pos_embedding = convnet(pos)\n",
    "  neg_embedding = convnet(neg)\n",
    "\n",
    "# merge the anchor, positive, negative embedding together, \n",
    "# let the merged layer be the output of triplet network\n",
    "\n",
    "# === COMPLETE CODE BELOW ===\n",
    "  triple = Concatenate(axis=1)([anchor_embedding, pos_embedding, neg_embedding])\n",
    "  triplet_net = Model(inputs=generated, outputs=triple)\n",
    "  triplet_net.compile(loss=triplet_loss, optimizer='adam')\n",
    "\n",
    "  triplet_net.summary()\n",
    "  return triplet_net"
   ]
  },
  {
   "cell_type": "markdown",
   "metadata": {
    "colab_type": "text",
    "id": "A-XyrIANAuOM"
   },
   "source": [
    "### Task 2.2: Define triplet loss\n",
    "\n",
    "You can find the formula of the triplet loss function in our lecture note. When training our model, make sure the network achieves a smaller loss than the margin and the network does not collapse all representations to zero vectors. "
   ]
  },
  {
   "cell_type": "code",
   "execution_count": 0,
   "metadata": {
    "colab": {},
    "colab_type": "code",
    "id": "mZ3v2Z0RAuON"
   },
   "outputs": [],
   "source": [
    "# Notice that the ground truth variable is not used for loss calculation. \n",
    "# It is used as a function argument to by-pass some Keras functionality.\n",
    "# This is because the network structure already implies the ground truth for the anchor image with the \"positive\" image.\n",
    "import tensorflow as tf\n",
    "\n",
    "def triplet_loss(ground_truth, network_output):\n",
    "\n",
    "    anchor, positive, negative = tf.split(network_output, num_or_size_splits=3, axis=1)\n",
    "            \n",
    "    alpha=0.2\n",
    "    # === COMPLETE CODE BELOW ===\n",
    "\n",
    "    distance_anchor_positive = K.sum(K.square(positive - anchor), axis=(-1, -2))\n",
    "    distance_anchor_negative = K.sum(K.square(negative - anchor), axis=(-1, -2))\n",
    "\n",
    "    loss = K.maximum(distance_anchor_positive - distance_anchor_negative + alpha, 0)\n",
    "\n",
    "    return loss"
   ]
  },
  {
   "cell_type": "markdown",
   "metadata": {
    "colab_type": "text",
    "id": "H7Wo8uzTXD2v"
   },
   "source": [
    "### Task 2.3: Select triplets for training"
   ]
  },
  {
   "cell_type": "markdown",
   "metadata": {
    "colab_type": "text",
    "id": "tSSr9IzTAuOX"
   },
   "source": [
    "#### Different  selection method\n",
    "\n",
    "We have two different options for the triplet selection method, and we will compare the model performance under these two methods after building our model.\n",
    "\n",
    "(1) Random  triplets selection, including the following steps:\n",
    "* Pick one random class for anchor\n",
    "* Pick two different random picture for this class, as the anchor and positive images\n",
    "* Pick another class for Negative, different from anchor_class\n",
    "* Pick one random picture from the negative class.\n",
    "\n",
    "(2) Hard triplets selection. For easy implement, for a picked anchor, positive pair, we will choose the hardest negative to form a hard triplet, that means, after picking an anchor, positive image, we will choose the negative image which is nearest from anchor image from a negative class, ie: \"- d(a,n)\"  can get the maximum value. The whole process including the following steps:\n",
    "* Pick one random class for anchor\n",
    "* Pick two different random picture for this class, as an anchor and positive images\n",
    "* Pick another class for negative, different from anchor_class\n",
    "* Pick one hardest picture from the negative class.\n"
   ]
  },
  {
   "cell_type": "code",
   "execution_count": 0,
   "metadata": {
    "colab": {},
    "colab_type": "code",
    "id": "HcxMsmACAuOY"
   },
   "outputs": [],
   "source": [
    "# Notice that the returned  1 * np.zeros(batch_size) is to by-pass some Keras functionality, corresponding to ground_truth in tripletloss\n",
    "# We use a variable hard_selection to control which method we are going to use. If we set hard_selection == False, we will select triplets random,If we set the variable hard_selection == True, we will select hard triplets.\n",
    "\n",
    "# === COMPLETE CODE BELOW === \n",
    "def get_batch(triplet_net, batch_size, X, hard_selection=False):\n",
    "    \n",
    "    #extract convolutional base from triplet net\n",
    "    convnet = triplet_net.get_layer(\"convnet_model\")\n",
    "\n",
    "    while True:\n",
    "        \n",
    "        n_classes, n_examples, w, h = X.shape\n",
    "        triplets=[]\n",
    "\n",
    "        for i in range(batch_size):\n",
    "            triplet = [[],[],[]]\n",
    "            #Pick one random class for anchor\n",
    "            anchor_class = np.random.randint(0, n_classes)\n",
    "\n",
    "            #Pick two different random pics for this class => idx_A and idx_P\n",
    "            [idx_anchor,idx_positive] = np.random.choice(n_examples, size=2, replace=False)\n",
    "\n",
    "            #Pick another class for negative, different from anchor_class\n",
    "            # === COMPLETE CODE BELOW === \n",
    "            negative_class = (anchor_class + np.random.randint(1, n_classes)) % n_classes\n",
    "\n",
    "            if not hard_selection:\n",
    "                #Pick a random pic from this negative class => N\n",
    "\n",
    "                # === COMPLETE CODE BELOW ===   \n",
    "                idx_negative = np.random.choice(n_examples)\n",
    "\n",
    "            else:\n",
    "                #Pick a hardest pic from this negative class => N\n",
    "                # === COMPLETE CODE BELOW === \n",
    "                                \n",
    "                anchor_image = convnet.predict(X[anchor_class, idx_anchor].reshape((1, w,h,1)))[:,0]\n",
    "                negative_image = convnet.predict(X[negative_class].reshape((n_examples, w,h,1)))[:,0]             \n",
    "                distances = euclidean_distances(anchor_image, negative_image)[0]\n",
    "                idx_negative = np.argmin(distances) \n",
    "                \n",
    "            triplet[0] = X[anchor_class][idx_anchor].reshape(w, h, 1)\n",
    "            triplet[1] = X[anchor_class][idx_positive].reshape(w, h, 1)\n",
    "            triplet[2]=  X[negative_class][idx_negative].reshape(w, h, 1)\n",
    "            triplets.append(triplet)\n",
    "\n",
    "        yield np.array(triplets), 1 * np.zeros(batch_size)\n"
   ]
  },
  {
   "cell_type": "markdown",
   "metadata": {
    "colab_type": "text",
    "id": "LP1oojLhXD2z"
   },
   "source": [
    "### Task 2.4: One-shot learning with different selection method"
   ]
  },
  {
   "cell_type": "markdown",
   "metadata": {
    "colab_type": "text",
    "id": "XHGJp45AR1qm"
   },
   "source": [
    "Function \"make_oneshot_task\" that can randomly setup such a one-shot task from a given test set (if a language is specified, using only classes/characters from that language), i.e. it will generate N pairs of images, where the first image is always the test image, and the second image is one of the N reference images. The pair of images from the same class will have target 1, all other targets are 0.\n",
    "\n",
    "The function \"test_oneshot\" will generate a number (k) of such one-shot tasks and evaluate the performance of a given model on these tasks; it reports the percentage of correctly classified test images\n",
    "\n",
    "In \"test_oneshot\", you can use embeddings extracted from the triplet network with L2-distance to evaluate one-shot learning. i.e. for a given one-shot task, obtain embeddings for the test image as well as the support set. Then pick the image from the support set that is closest (in L2-distance) to the test image as your one-shot prediction.\n",
    "\n",
    "*HINT you can re-use some code from practice 4b.4*"
   ]
  },
  {
   "cell_type": "code",
   "execution_count": 0,
   "metadata": {
    "colab": {},
    "colab_type": "code",
    "id": "RBgoMDwMAuOh"
   },
   "outputs": [],
   "source": [
    "def make_oneshot_task(N, X, c, language=None):\n",
    "    \"\"\"Create pairs of (test image, support set image) with ground truth, for testing N-way one-shot learning.\"\"\"\n",
    "\n",
    "    n_classes, n_examples, w, h = X.shape\n",
    "    indices = np.random.randint(0, n_examples, size=(N,))\n",
    "\n",
    "    if language is not None:\n",
    "        low, high = c[language]\n",
    "        if N > high - low:\n",
    "            raise ValueError(\"This language ({}) has less than {} letters\".format(language, N))\n",
    "        categories = np.random.choice(range(low,high), size=(N,), replace=False)\n",
    "    else:  # if no language specified just pick a bunch of random letters\n",
    "        categories = np.random.choice(range(n_classes), size=(N,), replace=False)\n",
    "            \n",
    "    true_category = categories[0]\n",
    "    ex1, ex2 = np.random.choice(n_examples, replace=False, size=(2,))\n",
    "    test_image = np.asarray([X[true_category, ex1, :, :]]*N).reshape(N, w, h, 1)\n",
    "\n",
    "    support_set = X[categories, indices, :, :]\n",
    "    support_set[0, :, :] = X[true_category, ex2]\n",
    "    support_set = support_set.reshape(N, w, h, 1)\n",
    "\n",
    "    targets = np.zeros((N,))\n",
    "    targets[0] = 1\n",
    "    targets, test_image, support_set = shuffle(targets, test_image, support_set)\n",
    "    \n",
    "    pairs = [test_image, support_set]\n",
    "    return np.array(pairs), np.array(targets)\n"
   ]
  },
  {
   "cell_type": "code",
   "execution_count": 0,
   "metadata": {
    "colab": {},
    "colab_type": "code",
    "id": "rk5F3ffuAuOl"
   },
   "outputs": [],
   "source": [
    "def test_oneshot(triplet_net, X, num, c_num):\n",
    "    # === COMPLETE CODE BELOW ===     \n",
    "    convnet_model = triplet_net.get_layer(\"convnet_model\")\n",
    "  \n",
    "    num_correct=0\n",
    "\n",
    "    for j in range(num):\n",
    "      twoimages, targets = make_oneshot_task(2, X, c_num)\n",
    "      test_conv = convnet_model.predict (twoimages[np.newaxis, 0, 0])[:,0]\n",
    "      pred_conv=convnet_model.predict(twoimages[1])[:,0]\n",
    "      dist=euclidean_distances(test_conv, pred_conv)[0]\n",
    "\n",
    "      if np.argmin(dist)  == np.argmax(targets):\n",
    "        num_correct = num_correct + 1\n",
    "\n",
    "    percent_correct = (num_correct/num) * 100.0\n",
    "\n",
    "    return percent_correct"
   ]
  },
  {
   "cell_type": "code",
   "execution_count": 0,
   "metadata": {
    "colab": {},
    "colab_type": "code",
    "id": "_NFEFST2uym9"
   },
   "outputs": [],
   "source": [
    "def train_selection(triplet_net, X_train, hard_selection, batch_size=64, steps_per_epoch=10, epochs=1):\n",
    "  triplet_net.fit(get_batch(triplet_net, batch_size, X_train, hard_selection), \n",
    "                  steps_per_epoch=steps_per_epoch, \n",
    "                  epochs=epochs)"
   ]
  },
  {
   "cell_type": "markdown",
   "metadata": {
    "colab_type": "text",
    "id": "u6yMu4jlXD26"
   },
   "source": [
    "With different triplets selecting method (random and hard), we will train our model and evaluate the model by one-shot learning accuracy.\n",
    "\n",
    "* You need to explicitly state the accuracy under different  triplets selecting method\n",
    "* When evaluating model with test_oneshot function, you should evaluate on 20 way one-shot task, and set the number (k) of evaluation one-shot tasks to be 250, then calculate the average accuracy\n"
   ]
  },
  {
   "cell_type": "markdown",
   "metadata": {
    "colab_type": "text",
    "id": "snKKGhIoXD27"
   },
   "source": [
    "#### Evaluate one-shot learning with  random triplets selection"
   ]
  },
  {
   "cell_type": "code",
   "execution_count": 0,
   "metadata": {
    "colab": {
     "base_uri": "https://localhost:8080/",
     "height": 1000
    },
    "colab_type": "code",
    "id": "e-r2qB5dAuOt",
    "outputId": "a696f823-9fa3-47e5-e42c-5981376180a4"
   },
   "outputs": [
    {
     "name": "stdout",
     "output_type": "stream",
     "text": [
      "Model: \"convnet_model\"\n",
      "_________________________________________________________________\n",
      "Layer (type)                 Output Shape              Param #   \n",
      "=================================================================\n",
      "conv2d (Conv2D)              (None, 96, 96, 64)        6464      \n",
      "_________________________________________________________________\n",
      "max_pooling2d (MaxPooling2D) (None, 48, 48, 64)        0         \n",
      "_________________________________________________________________\n",
      "batch_normalization (BatchNo (None, 48, 48, 64)        256       \n",
      "_________________________________________________________________\n",
      "dropout (Dropout)            (None, 48, 48, 64)        0         \n",
      "_________________________________________________________________\n",
      "conv2d_1 (Conv2D)            (None, 42, 42, 128)       401536    \n",
      "_________________________________________________________________\n",
      "max_pooling2d_1 (MaxPooling2 (None, 21, 21, 128)       0         \n",
      "_________________________________________________________________\n",
      "batch_normalization_1 (Batch (None, 21, 21, 128)       512       \n",
      "_________________________________________________________________\n",
      "dropout_1 (Dropout)          (None, 21, 21, 128)       0         \n",
      "_________________________________________________________________\n",
      "conv2d_2 (Conv2D)            (None, 18, 18, 128)       262272    \n",
      "_________________________________________________________________\n",
      "max_pooling2d_2 (MaxPooling2 (None, 9, 9, 128)         0         \n",
      "_________________________________________________________________\n",
      "batch_normalization_2 (Batch (None, 9, 9, 128)         512       \n",
      "_________________________________________________________________\n",
      "dropout_2 (Dropout)          (None, 9, 9, 128)         0         \n",
      "_________________________________________________________________\n",
      "conv2d_3 (Conv2D)            (None, 6, 6, 256)         524544    \n",
      "_________________________________________________________________\n",
      "flatten (Flatten)            (None, 9216)              0         \n",
      "_________________________________________________________________\n",
      "batch_normalization_3 (Batch (None, 9216)              36864     \n",
      "_________________________________________________________________\n",
      "dropout_3 (Dropout)          (None, 9216)              0         \n",
      "_________________________________________________________________\n",
      "dense (Dense)                (None, 4096)              37752832  \n",
      "_________________________________________________________________\n",
      "reshape (Reshape)            (None, 1, 4096)           0         \n",
      "=================================================================\n",
      "Total params: 38,985,792\n",
      "Trainable params: 38,966,720\n",
      "Non-trainable params: 19,072\n",
      "_________________________________________________________________\n",
      "Model: \"model\"\n",
      "__________________________________________________________________________________________________\n",
      "Layer (type)                    Output Shape         Param #     Connected to                     \n",
      "==================================================================================================\n",
      "input (InputLayer)              [(None, 3, 105, 105, 0                                            \n",
      "__________________________________________________________________________________________________\n",
      "lambda (Lambda)                 (None, 105, 105, 1)  0           input[0][0]                      \n",
      "__________________________________________________________________________________________________\n",
      "lambda_1 (Lambda)               (None, 105, 105, 1)  0           input[0][0]                      \n",
      "__________________________________________________________________________________________________\n",
      "lambda_2 (Lambda)               (None, 105, 105, 1)  0           input[0][0]                      \n",
      "__________________________________________________________________________________________________\n",
      "convnet_model (Sequential)      (None, 1, 4096)      38985792    lambda[0][0]                     \n",
      "                                                                 lambda_1[0][0]                   \n",
      "                                                                 lambda_2[0][0]                   \n",
      "__________________________________________________________________________________________________\n",
      "concatenate (Concatenate)       (None, 3, 4096)      0           convnet_model[1][0]              \n",
      "                                                                 convnet_model[2][0]              \n",
      "                                                                 convnet_model[3][0]              \n",
      "==================================================================================================\n",
      "Total params: 38,985,792\n",
      "Trainable params: 38,966,720\n",
      "Non-trainable params: 19,072\n",
      "__________________________________________________________________________________________________\n",
      "=== Training loop 1 ===\n",
      "10/10 [==============================] - 2s 161ms/step - loss: 18.2320\n",
      "Best Accuracy (77.60000000000001)\n",
      "=== Training loop 2 ===\n",
      "10/10 [==============================] - 2s 161ms/step - loss: 19.9174\n",
      "Accuray has reached saturation\n",
      "=== Training loop 3 ===\n",
      "10/10 [==============================] - 2s 160ms/step - loss: 20.5544\n",
      "Best Accuracy (81.2)\n",
      "=== Training loop 4 ===\n",
      "10/10 [==============================] - 2s 160ms/step - loss: 23.6482\n",
      "Best Accuracy (82.39999999999999)\n",
      "=== Training loop 5 ===\n",
      "10/10 [==============================] - 2s 162ms/step - loss: 23.1131\n",
      "Accuray has reached saturation\n",
      "=== Training loop 6 ===\n",
      "10/10 [==============================] - 2s 162ms/step - loss: 22.2137\n",
      "Best Accuracy (83.6)\n",
      "=== Training loop 7 ===\n",
      "10/10 [==============================] - 2s 161ms/step - loss: 25.5208\n",
      "Accuray has reached saturation\n",
      "=== Training loop 8 ===\n",
      "10/10 [==============================] - 2s 162ms/step - loss: 20.5903\n",
      "Accuray has reached saturation\n",
      "=== Training loop 9 ===\n",
      "10/10 [==============================] - 2s 160ms/step - loss: 19.6436\n",
      "Best Accuracy (85.2)\n",
      "=== Training loop 10 ===\n",
      "10/10 [==============================] - 2s 161ms/step - loss: 30.0878\n",
      "Best Accuracy (85.6)\n",
      "Best Accuracy 85.6\n"
     ]
    }
   ],
   "source": [
    "# hard_selection == False, selcet triplets randomly\n",
    "# Train our model and evaluate the model by one-shot learning accuracy.\n",
    "triplet_net = generate_triplet_network()\n",
    "\n",
    "num=250\n",
    "loops = 10\n",
    "best_acc = 0\n",
    "\n",
    "for i in range(loops):\n",
    "    print(\"=== Training loop {} ===\".format(i+1))\n",
    "    # === ADD CODE HERE ===\n",
    "    train_selection(triplet_net, X_train, hard_selection = False)\n",
    "    test_accuracy = test_oneshot(triplet_net, X_test, num, c_test)\n",
    "\n",
    "    if (test_accuracy > best_acc):\n",
    "      print(\"Best Accuracy ({})\".format(test_accuracy))\n",
    "      best_acc=test_accuracy\n",
    "    else:\n",
    "      print (\"Accuray has reached saturation\")\n",
    "\n",
    "print(\"Best Accuracy {}\".format(best_acc))"
   ]
  },
  {
   "cell_type": "markdown",
   "metadata": {
    "colab_type": "text",
    "id": "YLlvr6TRXD2-"
   },
   "source": [
    "#### Evaluate one-shot learning with  hard triplets selection"
   ]
  },
  {
   "cell_type": "code",
   "execution_count": 0,
   "metadata": {
    "colab": {
     "base_uri": "https://localhost:8080/",
     "height": 1000
    },
    "colab_type": "code",
    "id": "jRMW3mBIyjoJ",
    "outputId": "f0b6f4d4-549b-41c1-c529-81d435e10178"
   },
   "outputs": [
    {
     "name": "stdout",
     "output_type": "stream",
     "text": [
      "Model: \"convnet_model\"\n",
      "_________________________________________________________________\n",
      "Layer (type)                 Output Shape              Param #   \n",
      "=================================================================\n",
      "conv2d_4 (Conv2D)            (None, 96, 96, 64)        6464      \n",
      "_________________________________________________________________\n",
      "max_pooling2d_3 (MaxPooling2 (None, 48, 48, 64)        0         \n",
      "_________________________________________________________________\n",
      "batch_normalization_4 (Batch (None, 48, 48, 64)        256       \n",
      "_________________________________________________________________\n",
      "dropout_4 (Dropout)          (None, 48, 48, 64)        0         \n",
      "_________________________________________________________________\n",
      "conv2d_5 (Conv2D)            (None, 42, 42, 128)       401536    \n",
      "_________________________________________________________________\n",
      "max_pooling2d_4 (MaxPooling2 (None, 21, 21, 128)       0         \n",
      "_________________________________________________________________\n",
      "batch_normalization_5 (Batch (None, 21, 21, 128)       512       \n",
      "_________________________________________________________________\n",
      "dropout_5 (Dropout)          (None, 21, 21, 128)       0         \n",
      "_________________________________________________________________\n",
      "conv2d_6 (Conv2D)            (None, 18, 18, 128)       262272    \n",
      "_________________________________________________________________\n",
      "max_pooling2d_5 (MaxPooling2 (None, 9, 9, 128)         0         \n",
      "_________________________________________________________________\n",
      "batch_normalization_6 (Batch (None, 9, 9, 128)         512       \n",
      "_________________________________________________________________\n",
      "dropout_6 (Dropout)          (None, 9, 9, 128)         0         \n",
      "_________________________________________________________________\n",
      "conv2d_7 (Conv2D)            (None, 6, 6, 256)         524544    \n",
      "_________________________________________________________________\n",
      "flatten_1 (Flatten)          (None, 9216)              0         \n",
      "_________________________________________________________________\n",
      "batch_normalization_7 (Batch (None, 9216)              36864     \n",
      "_________________________________________________________________\n",
      "dropout_7 (Dropout)          (None, 9216)              0         \n",
      "_________________________________________________________________\n",
      "dense_1 (Dense)              (None, 4096)              37752832  \n",
      "_________________________________________________________________\n",
      "reshape_1 (Reshape)          (None, 1, 4096)           0         \n",
      "=================================================================\n",
      "Total params: 38,985,792\n",
      "Trainable params: 38,966,720\n",
      "Non-trainable params: 19,072\n",
      "_________________________________________________________________\n",
      "Model: \"model_1\"\n",
      "__________________________________________________________________________________________________\n",
      "Layer (type)                    Output Shape         Param #     Connected to                     \n",
      "==================================================================================================\n",
      "input (InputLayer)              [(None, 3, 105, 105, 0                                            \n",
      "__________________________________________________________________________________________________\n",
      "lambda_3 (Lambda)               (None, 105, 105, 1)  0           input[0][0]                      \n",
      "__________________________________________________________________________________________________\n",
      "lambda_4 (Lambda)               (None, 105, 105, 1)  0           input[0][0]                      \n",
      "__________________________________________________________________________________________________\n",
      "lambda_5 (Lambda)               (None, 105, 105, 1)  0           input[0][0]                      \n",
      "__________________________________________________________________________________________________\n",
      "convnet_model (Sequential)      (None, 1, 4096)      38985792    lambda_3[0][0]                   \n",
      "                                                                 lambda_4[0][0]                   \n",
      "                                                                 lambda_5[0][0]                   \n",
      "__________________________________________________________________________________________________\n",
      "concatenate_1 (Concatenate)     (None, 3, 4096)      0           convnet_model[1][0]              \n",
      "                                                                 convnet_model[2][0]              \n",
      "                                                                 convnet_model[3][0]              \n",
      "==================================================================================================\n",
      "Total params: 38,985,792\n",
      "Trainable params: 38,966,720\n",
      "Non-trainable params: 19,072\n",
      "__________________________________________________________________________________________________\n",
      "=== Training loop 1 ===\n",
      "10/10 [==============================] - 38s 4s/step - loss: 26.1600\n",
      "Best Accuracy (76.0)\n",
      "=== Training loop 2 ===\n",
      "10/10 [==============================] - 39s 4s/step - loss: 25.6367\n",
      "Best Accuracy (85.2)\n",
      "=== Training loop 3 ===\n",
      "10/10 [==============================] - 40s 4s/step - loss: 31.5402\n",
      "Accuray has reached saturation\n",
      "=== Training loop 4 ===\n",
      "10/10 [==============================] - 41s 4s/step - loss: 30.7784\n",
      "Best Accuracy (88.0)\n",
      "=== Training loop 5 ===\n",
      "10/10 [==============================] - 41s 4s/step - loss: 31.3527\n",
      "Best Accuracy (90.0)\n",
      "=== Training loop 6 ===\n",
      "10/10 [==============================] - 41s 4s/step - loss: 32.9649\n",
      "Accuray has reached saturation\n",
      "=== Training loop 7 ===\n",
      "10/10 [==============================] - 40s 4s/step - loss: 41.5797\n",
      "Best Accuracy (92.80000000000001)\n",
      "=== Training loop 8 ===\n",
      "10/10 [==============================] - 41s 4s/step - loss: 36.8921\n",
      "Accuray has reached saturation\n",
      "=== Training loop 9 ===\n",
      "10/10 [==============================] - 41s 4s/step - loss: 38.3171\n",
      "Accuray has reached saturation\n",
      "=== Training loop 10 ===\n",
      "10/10 [==============================] - 41s 4s/step - loss: 34.7111\n",
      "Accuray has reached saturation\n",
      "Best Accuracy 92.80000000000001\n"
     ]
    }
   ],
   "source": [
    "# hard_selection == True, hard triple selection\n",
    "# Train our model and evaluate the model by one-shot learning accuracy.\n",
    "triplet_net = generate_triplet_network()\n",
    "\n",
    "num=250\n",
    "loops = 10\n",
    "best_acc = 0\n",
    "\n",
    "for i in range(loops):\n",
    "    print(\"=== Training loop {} ===\".format(i+1))\n",
    "    # === ADD CODE HERE ===\n",
    "    train_selection(triplet_net, X_train, hard_selection = True)\n",
    "    test_accuracy = test_oneshot(triplet_net, X_test, num, c_test)\n",
    "\n",
    "    if (test_accuracy > best_acc):\n",
    "      print(\"Best Accuracy ({})\".format(test_accuracy))\n",
    "      best_acc=test_accuracy\n",
    "    else:\n",
    "      print (\"Accuray has reached saturation\")\n",
    "\n",
    "print(\"Best Accuracy {}\".format(best_acc))"
   ]
  }
 ],
 "metadata": {
  "accelerator": "GPU",
  "colab": {
   "collapsed_sections": [],
   "name": "Copy of 2IMM10_Assignment_2_2.ipynb",
   "provenance": []
  },
  "kernelspec": {
   "display_name": "Python 3",
   "language": "python",
   "name": "python3"
  },
  "language_info": {
   "codemirror_mode": {
    "name": "ipython",
    "version": 3
   },
   "file_extension": ".py",
   "mimetype": "text/x-python",
   "name": "python",
   "nbconvert_exporter": "python",
   "pygments_lexer": "ipython3",
   "version": "3.8.5"
  },
  "toc": {
   "base_numbering": 1,
   "nav_menu": {},
   "number_sections": true,
   "sideBar": true,
   "skip_h1_title": false,
   "title_cell": "Table of Contents",
   "title_sidebar": "Contents",
   "toc_cell": false,
   "toc_position": {},
   "toc_section_display": true,
   "toc_window_display": false
  }
 },
 "nbformat": 4,
 "nbformat_minor": 1
}
